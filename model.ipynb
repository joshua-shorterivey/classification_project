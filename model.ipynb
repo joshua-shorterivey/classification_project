{
 "cells": [
  {
   "cell_type": "code",
   "execution_count": 1,
   "metadata": {},
   "outputs": [],
   "source": [
    "import pandas as pd\n",
    "import numpy as np\n",
    "import matplotlib.pyplot as plt\n",
    "import seaborn as sns\n",
    "import acquire\n",
    "import prepare\n",
    "import model\n",
    "\n",
    "from scipy import stats\n",
    "from sklearn.model_selection import train_test_split\n",
    "from sklearn.tree import DecisionTreeClassifier, plot_tree\n",
    "from sklearn.ensemble import RandomForestClassifier\n",
    "from sklearn.neighbors import KNeighborsClassifier\n",
    "from sklearn.metrics import classification_report, confusion_matrix, ConfusionMatrixDisplay\n",
    "from sklearn.linear_model import LogisticRegression"
   ]
  },
  {
   "cell_type": "code",
   "execution_count": 2,
   "metadata": {},
   "outputs": [
    {
     "data": {
      "text/html": [
       "<div>\n",
       "<style scoped>\n",
       "    .dataframe tbody tr th:only-of-type {\n",
       "        vertical-align: middle;\n",
       "    }\n",
       "\n",
       "    .dataframe tbody tr th {\n",
       "        vertical-align: top;\n",
       "    }\n",
       "\n",
       "    .dataframe thead th {\n",
       "        text-align: right;\n",
       "    }\n",
       "</style>\n",
       "<table border=\"1\" class=\"dataframe\">\n",
       "  <thead>\n",
       "    <tr style=\"text-align: right;\">\n",
       "      <th></th>\n",
       "      <th>internet_service_type_id</th>\n",
       "      <th>payment_type_id</th>\n",
       "      <th>contract_type_id</th>\n",
       "      <th>customer_id</th>\n",
       "      <th>gender</th>\n",
       "      <th>senior_citizen</th>\n",
       "      <th>partner</th>\n",
       "      <th>dependents</th>\n",
       "      <th>tenure</th>\n",
       "      <th>phone_service</th>\n",
       "      <th>...</th>\n",
       "      <th>tech_support</th>\n",
       "      <th>streaming_tv</th>\n",
       "      <th>streaming_movies</th>\n",
       "      <th>paperless_billing</th>\n",
       "      <th>monthly_charges</th>\n",
       "      <th>total_charges</th>\n",
       "      <th>churn</th>\n",
       "      <th>contract_type</th>\n",
       "      <th>payment_type</th>\n",
       "      <th>internet_service_type</th>\n",
       "    </tr>\n",
       "  </thead>\n",
       "  <tbody>\n",
       "    <tr>\n",
       "      <th>0</th>\n",
       "      <td>1</td>\n",
       "      <td>2</td>\n",
       "      <td>2</td>\n",
       "      <td>0002-ORFBO</td>\n",
       "      <td>Female</td>\n",
       "      <td>0</td>\n",
       "      <td>Yes</td>\n",
       "      <td>Yes</td>\n",
       "      <td>9</td>\n",
       "      <td>Yes</td>\n",
       "      <td>...</td>\n",
       "      <td>Yes</td>\n",
       "      <td>Yes</td>\n",
       "      <td>No</td>\n",
       "      <td>Yes</td>\n",
       "      <td>65.6</td>\n",
       "      <td>593.3</td>\n",
       "      <td>No</td>\n",
       "      <td>One year</td>\n",
       "      <td>Mailed check</td>\n",
       "      <td>DSL</td>\n",
       "    </tr>\n",
       "    <tr>\n",
       "      <th>1</th>\n",
       "      <td>1</td>\n",
       "      <td>2</td>\n",
       "      <td>1</td>\n",
       "      <td>0003-MKNFE</td>\n",
       "      <td>Male</td>\n",
       "      <td>0</td>\n",
       "      <td>No</td>\n",
       "      <td>No</td>\n",
       "      <td>9</td>\n",
       "      <td>Yes</td>\n",
       "      <td>...</td>\n",
       "      <td>No</td>\n",
       "      <td>No</td>\n",
       "      <td>Yes</td>\n",
       "      <td>No</td>\n",
       "      <td>59.9</td>\n",
       "      <td>542.4</td>\n",
       "      <td>No</td>\n",
       "      <td>Month-to-month</td>\n",
       "      <td>Mailed check</td>\n",
       "      <td>DSL</td>\n",
       "    </tr>\n",
       "    <tr>\n",
       "      <th>2</th>\n",
       "      <td>2</td>\n",
       "      <td>1</td>\n",
       "      <td>1</td>\n",
       "      <td>0004-TLHLJ</td>\n",
       "      <td>Male</td>\n",
       "      <td>0</td>\n",
       "      <td>No</td>\n",
       "      <td>No</td>\n",
       "      <td>4</td>\n",
       "      <td>Yes</td>\n",
       "      <td>...</td>\n",
       "      <td>No</td>\n",
       "      <td>No</td>\n",
       "      <td>No</td>\n",
       "      <td>Yes</td>\n",
       "      <td>73.9</td>\n",
       "      <td>280.85</td>\n",
       "      <td>Yes</td>\n",
       "      <td>Month-to-month</td>\n",
       "      <td>Electronic check</td>\n",
       "      <td>Fiber optic</td>\n",
       "    </tr>\n",
       "    <tr>\n",
       "      <th>3</th>\n",
       "      <td>2</td>\n",
       "      <td>1</td>\n",
       "      <td>1</td>\n",
       "      <td>0011-IGKFF</td>\n",
       "      <td>Male</td>\n",
       "      <td>1</td>\n",
       "      <td>Yes</td>\n",
       "      <td>No</td>\n",
       "      <td>13</td>\n",
       "      <td>Yes</td>\n",
       "      <td>...</td>\n",
       "      <td>No</td>\n",
       "      <td>Yes</td>\n",
       "      <td>Yes</td>\n",
       "      <td>Yes</td>\n",
       "      <td>98.0</td>\n",
       "      <td>1237.85</td>\n",
       "      <td>Yes</td>\n",
       "      <td>Month-to-month</td>\n",
       "      <td>Electronic check</td>\n",
       "      <td>Fiber optic</td>\n",
       "    </tr>\n",
       "    <tr>\n",
       "      <th>4</th>\n",
       "      <td>2</td>\n",
       "      <td>2</td>\n",
       "      <td>1</td>\n",
       "      <td>0013-EXCHZ</td>\n",
       "      <td>Female</td>\n",
       "      <td>1</td>\n",
       "      <td>Yes</td>\n",
       "      <td>No</td>\n",
       "      <td>3</td>\n",
       "      <td>Yes</td>\n",
       "      <td>...</td>\n",
       "      <td>Yes</td>\n",
       "      <td>Yes</td>\n",
       "      <td>No</td>\n",
       "      <td>Yes</td>\n",
       "      <td>83.9</td>\n",
       "      <td>267.4</td>\n",
       "      <td>Yes</td>\n",
       "      <td>Month-to-month</td>\n",
       "      <td>Mailed check</td>\n",
       "      <td>Fiber optic</td>\n",
       "    </tr>\n",
       "  </tbody>\n",
       "</table>\n",
       "<p>5 rows × 24 columns</p>\n",
       "</div>"
      ],
      "text/plain": [
       "   internet_service_type_id  payment_type_id  contract_type_id customer_id  \\\n",
       "0                         1                2                 2  0002-ORFBO   \n",
       "1                         1                2                 1  0003-MKNFE   \n",
       "2                         2                1                 1  0004-TLHLJ   \n",
       "3                         2                1                 1  0011-IGKFF   \n",
       "4                         2                2                 1  0013-EXCHZ   \n",
       "\n",
       "   gender  senior_citizen partner dependents  tenure phone_service  ...  \\\n",
       "0  Female               0     Yes        Yes       9           Yes  ...   \n",
       "1    Male               0      No         No       9           Yes  ...   \n",
       "2    Male               0      No         No       4           Yes  ...   \n",
       "3    Male               1     Yes         No      13           Yes  ...   \n",
       "4  Female               1     Yes         No       3           Yes  ...   \n",
       "\n",
       "  tech_support streaming_tv streaming_movies paperless_billing  \\\n",
       "0          Yes          Yes               No               Yes   \n",
       "1           No           No              Yes                No   \n",
       "2           No           No               No               Yes   \n",
       "3           No          Yes              Yes               Yes   \n",
       "4          Yes          Yes               No               Yes   \n",
       "\n",
       "  monthly_charges total_charges churn   contract_type      payment_type  \\\n",
       "0            65.6         593.3    No        One year      Mailed check   \n",
       "1            59.9         542.4    No  Month-to-month      Mailed check   \n",
       "2            73.9        280.85   Yes  Month-to-month  Electronic check   \n",
       "3            98.0       1237.85   Yes  Month-to-month  Electronic check   \n",
       "4            83.9         267.4   Yes  Month-to-month      Mailed check   \n",
       "\n",
       "  internet_service_type  \n",
       "0                   DSL  \n",
       "1                   DSL  \n",
       "2           Fiber optic  \n",
       "3           Fiber optic  \n",
       "4           Fiber optic  \n",
       "\n",
       "[5 rows x 24 columns]"
      ]
     },
     "execution_count": 2,
     "metadata": {},
     "output_type": "execute_result"
    }
   ],
   "source": [
    "#acquire data and do rudimentary exploration\n",
    "df = acquire.get_telco_data()\n",
    "df.head()"
   ]
  },
  {
   "cell_type": "code",
   "execution_count": 3,
   "metadata": {},
   "outputs": [],
   "source": [
    "# reassign with prep_telco output to prepare for data split\n",
    "df = prepare.prep_telco(df)\n",
    "df = prepare.final_prep(df)"
   ]
  },
  {
   "cell_type": "code",
   "execution_count": 5,
   "metadata": {},
   "outputs": [
    {
     "name": "stdout",
     "output_type": "stream",
     "text": [
      "Prepared df: (7043, 31)\n",
      "\n",
      "Train: (4225, 31)\n",
      "Validate: (1409, 31)\n",
      "Test: (1409, 31)\n"
     ]
    }
   ],
   "source": [
    "# split the data with target *churn*\n",
    "train, validate, test = prepare.split_data(df, 'churn_encoded')"
   ]
  },
  {
   "cell_type": "markdown",
   "metadata": {},
   "source": [
    "# Model\n",
    "Explore various models and feature combinations.\n",
    "Choose **three** models to validate. Choose **one** to test. \n",
    "Artifact: `model.py`"
   ]
  },
  {
   "cell_type": "markdown",
   "metadata": {},
   "source": [
    "### Modeling Preparation\n",
    "> Create Baseline prediction and accuracy\n",
    "* Place results in dataframe that features model description for addtion of later models --> `model_descriptions`\n",
    "> Create dataframe model evaluation metrics --> move to `model.py`\n",
    "* `comparision_chart`\n",
    "> Create functions to  --> move to `model.py`\n",
    "> update dataframes with each model in turn\n",
    "> create visualization of each model's accuracy"
   ]
  },
  {
   "cell_type": "markdown",
   "metadata": {},
   "source": [
    "### Baseline Prediction and Accuracy"
   ]
  },
  {
   "cell_type": "code",
   "execution_count": null,
   "metadata": {},
   "outputs": [],
   "source": []
  },
  {
   "cell_type": "code",
   "execution_count": 6,
   "metadata": {},
   "outputs": [
    {
     "data": {
      "text/plain": [
       "0    0.734675\n",
       "1    0.265325\n",
       "Name: churn_encoded, dtype: float64"
      ]
     },
     "execution_count": 6,
     "metadata": {},
     "output_type": "execute_result"
    }
   ],
   "source": [
    "# formulate baseline prediction\n",
    "train.churn_encoded.value_counts(normalize=True)"
   ]
  },
  {
   "cell_type": "code",
   "execution_count": 7,
   "metadata": {},
   "outputs": [
    {
     "ename": "KeyError",
     "evalue": "\"['tenure_group'] not found in axis\"",
     "output_type": "error",
     "traceback": [
      "\u001b[0;31m---------------------------------------------------------------------------\u001b[0m",
      "\u001b[0;31mKeyError\u001b[0m                                  Traceback (most recent call last)",
      "\u001b[1;32m/Users/sinao/codeup-data-science/classification_project/model.ipynb Cell 10\u001b[0m in \u001b[0;36m<cell line: 2>\u001b[0;34m()\u001b[0m\n\u001b[1;32m      <a href='vscode-notebook-cell:/Users/sinao/codeup-data-science/classification_project/model.ipynb#X11sZmlsZQ%3D%3D?line=0'>1</a>\u001b[0m \u001b[39m# split data into Big X, small y sets \u001b[39;00m\n\u001b[0;32m----> <a href='vscode-notebook-cell:/Users/sinao/codeup-data-science/classification_project/model.ipynb#X11sZmlsZQ%3D%3D?line=1'>2</a>\u001b[0m X_train \u001b[39m=\u001b[39m train\u001b[39m.\u001b[39;49mdrop(columns\u001b[39m=\u001b[39;49m[\u001b[39m'\u001b[39;49m\u001b[39mchurn_encoded\u001b[39;49m\u001b[39m'\u001b[39;49m, \u001b[39m'\u001b[39;49m\u001b[39mtenure_group\u001b[39;49m\u001b[39m'\u001b[39;49m])\n\u001b[1;32m      <a href='vscode-notebook-cell:/Users/sinao/codeup-data-science/classification_project/model.ipynb#X11sZmlsZQ%3D%3D?line=2'>3</a>\u001b[0m y_train \u001b[39m=\u001b[39m train\u001b[39m.\u001b[39mchurn_encoded\n\u001b[1;32m      <a href='vscode-notebook-cell:/Users/sinao/codeup-data-science/classification_project/model.ipynb#X11sZmlsZQ%3D%3D?line=3'>4</a>\u001b[0m X_train \u001b[39m=\u001b[39m prepare\u001b[39m.\u001b[39mfinal_prep(X_train)\n",
      "File \u001b[0;32m/opt/homebrew/anaconda3/lib/python3.9/site-packages/pandas/util/_decorators.py:311\u001b[0m, in \u001b[0;36mdeprecate_nonkeyword_arguments.<locals>.decorate.<locals>.wrapper\u001b[0;34m(*args, **kwargs)\u001b[0m\n\u001b[1;32m    305\u001b[0m \u001b[39mif\u001b[39;00m \u001b[39mlen\u001b[39m(args) \u001b[39m>\u001b[39m num_allow_args:\n\u001b[1;32m    306\u001b[0m     warnings\u001b[39m.\u001b[39mwarn(\n\u001b[1;32m    307\u001b[0m         msg\u001b[39m.\u001b[39mformat(arguments\u001b[39m=\u001b[39marguments),\n\u001b[1;32m    308\u001b[0m         \u001b[39mFutureWarning\u001b[39;00m,\n\u001b[1;32m    309\u001b[0m         stacklevel\u001b[39m=\u001b[39mstacklevel,\n\u001b[1;32m    310\u001b[0m     )\n\u001b[0;32m--> 311\u001b[0m \u001b[39mreturn\u001b[39;00m func(\u001b[39m*\u001b[39;49margs, \u001b[39m*\u001b[39;49m\u001b[39m*\u001b[39;49mkwargs)\n",
      "File \u001b[0;32m/opt/homebrew/anaconda3/lib/python3.9/site-packages/pandas/core/frame.py:4954\u001b[0m, in \u001b[0;36mDataFrame.drop\u001b[0;34m(self, labels, axis, index, columns, level, inplace, errors)\u001b[0m\n\u001b[1;32m   4806\u001b[0m \u001b[39m@deprecate_nonkeyword_arguments\u001b[39m(version\u001b[39m=\u001b[39m\u001b[39mNone\u001b[39;00m, allowed_args\u001b[39m=\u001b[39m[\u001b[39m\"\u001b[39m\u001b[39mself\u001b[39m\u001b[39m\"\u001b[39m, \u001b[39m\"\u001b[39m\u001b[39mlabels\u001b[39m\u001b[39m\"\u001b[39m])\n\u001b[1;32m   4807\u001b[0m \u001b[39mdef\u001b[39;00m \u001b[39mdrop\u001b[39m(\n\u001b[1;32m   4808\u001b[0m     \u001b[39mself\u001b[39m,\n\u001b[0;32m   (...)\u001b[0m\n\u001b[1;32m   4815\u001b[0m     errors: \u001b[39mstr\u001b[39m \u001b[39m=\u001b[39m \u001b[39m\"\u001b[39m\u001b[39mraise\u001b[39m\u001b[39m\"\u001b[39m,\n\u001b[1;32m   4816\u001b[0m ):\n\u001b[1;32m   4817\u001b[0m     \u001b[39m\"\"\"\u001b[39;00m\n\u001b[1;32m   4818\u001b[0m \u001b[39m    Drop specified labels from rows or columns.\u001b[39;00m\n\u001b[1;32m   4819\u001b[0m \n\u001b[0;32m   (...)\u001b[0m\n\u001b[1;32m   4952\u001b[0m \u001b[39m            weight  1.0     0.8\u001b[39;00m\n\u001b[1;32m   4953\u001b[0m \u001b[39m    \"\"\"\u001b[39;00m\n\u001b[0;32m-> 4954\u001b[0m     \u001b[39mreturn\u001b[39;00m \u001b[39msuper\u001b[39;49m()\u001b[39m.\u001b[39;49mdrop(\n\u001b[1;32m   4955\u001b[0m         labels\u001b[39m=\u001b[39;49mlabels,\n\u001b[1;32m   4956\u001b[0m         axis\u001b[39m=\u001b[39;49maxis,\n\u001b[1;32m   4957\u001b[0m         index\u001b[39m=\u001b[39;49mindex,\n\u001b[1;32m   4958\u001b[0m         columns\u001b[39m=\u001b[39;49mcolumns,\n\u001b[1;32m   4959\u001b[0m         level\u001b[39m=\u001b[39;49mlevel,\n\u001b[1;32m   4960\u001b[0m         inplace\u001b[39m=\u001b[39;49minplace,\n\u001b[1;32m   4961\u001b[0m         errors\u001b[39m=\u001b[39;49merrors,\n\u001b[1;32m   4962\u001b[0m     )\n",
      "File \u001b[0;32m/opt/homebrew/anaconda3/lib/python3.9/site-packages/pandas/core/generic.py:4267\u001b[0m, in \u001b[0;36mNDFrame.drop\u001b[0;34m(self, labels, axis, index, columns, level, inplace, errors)\u001b[0m\n\u001b[1;32m   4265\u001b[0m \u001b[39mfor\u001b[39;00m axis, labels \u001b[39min\u001b[39;00m axes\u001b[39m.\u001b[39mitems():\n\u001b[1;32m   4266\u001b[0m     \u001b[39mif\u001b[39;00m labels \u001b[39mis\u001b[39;00m \u001b[39mnot\u001b[39;00m \u001b[39mNone\u001b[39;00m:\n\u001b[0;32m-> 4267\u001b[0m         obj \u001b[39m=\u001b[39m obj\u001b[39m.\u001b[39;49m_drop_axis(labels, axis, level\u001b[39m=\u001b[39;49mlevel, errors\u001b[39m=\u001b[39;49merrors)\n\u001b[1;32m   4269\u001b[0m \u001b[39mif\u001b[39;00m inplace:\n\u001b[1;32m   4270\u001b[0m     \u001b[39mself\u001b[39m\u001b[39m.\u001b[39m_update_inplace(obj)\n",
      "File \u001b[0;32m/opt/homebrew/anaconda3/lib/python3.9/site-packages/pandas/core/generic.py:4311\u001b[0m, in \u001b[0;36mNDFrame._drop_axis\u001b[0;34m(self, labels, axis, level, errors, consolidate, only_slice)\u001b[0m\n\u001b[1;32m   4309\u001b[0m         new_axis \u001b[39m=\u001b[39m axis\u001b[39m.\u001b[39mdrop(labels, level\u001b[39m=\u001b[39mlevel, errors\u001b[39m=\u001b[39merrors)\n\u001b[1;32m   4310\u001b[0m     \u001b[39melse\u001b[39;00m:\n\u001b[0;32m-> 4311\u001b[0m         new_axis \u001b[39m=\u001b[39m axis\u001b[39m.\u001b[39;49mdrop(labels, errors\u001b[39m=\u001b[39;49merrors)\n\u001b[1;32m   4312\u001b[0m     indexer \u001b[39m=\u001b[39m axis\u001b[39m.\u001b[39mget_indexer(new_axis)\n\u001b[1;32m   4314\u001b[0m \u001b[39m# Case for non-unique axis\u001b[39;00m\n\u001b[1;32m   4315\u001b[0m \u001b[39melse\u001b[39;00m:\n",
      "File \u001b[0;32m/opt/homebrew/anaconda3/lib/python3.9/site-packages/pandas/core/indexes/base.py:6644\u001b[0m, in \u001b[0;36mIndex.drop\u001b[0;34m(self, labels, errors)\u001b[0m\n\u001b[1;32m   6642\u001b[0m \u001b[39mif\u001b[39;00m mask\u001b[39m.\u001b[39many():\n\u001b[1;32m   6643\u001b[0m     \u001b[39mif\u001b[39;00m errors \u001b[39m!=\u001b[39m \u001b[39m\"\u001b[39m\u001b[39mignore\u001b[39m\u001b[39m\"\u001b[39m:\n\u001b[0;32m-> 6644\u001b[0m         \u001b[39mraise\u001b[39;00m \u001b[39mKeyError\u001b[39;00m(\u001b[39mf\u001b[39m\u001b[39m\"\u001b[39m\u001b[39m{\u001b[39;00m\u001b[39mlist\u001b[39m(labels[mask])\u001b[39m}\u001b[39;00m\u001b[39m not found in axis\u001b[39m\u001b[39m\"\u001b[39m)\n\u001b[1;32m   6645\u001b[0m     indexer \u001b[39m=\u001b[39m indexer[\u001b[39m~\u001b[39mmask]\n\u001b[1;32m   6646\u001b[0m \u001b[39mreturn\u001b[39;00m \u001b[39mself\u001b[39m\u001b[39m.\u001b[39mdelete(indexer)\n",
      "\u001b[0;31mKeyError\u001b[0m: \"['tenure_group'] not found in axis\""
     ]
    }
   ],
   "source": [
    "# split data into Big X, small y sets \n",
    "X_train = train.drop(columns=['churn_encoded', 'tenure_group'])\n",
    "y_train = train.churn_encoded\n",
    "X_train = prepare.final_prep(X_train)\n",
    "\n",
    "X_validate = validate.drop(columns=['churn_encoded'])\n",
    "y_validate = validate.churn_encoded\n",
    "X_validate = prepare.final_prep(X_validate)\n",
    "\n",
    "X_test = test.drop(columns=['churn_encoded'])\n",
    "y_test = test.churn_encoded\n",
    "X_test = prepare.final_prep(X_test)"
   ]
  },
  {
   "cell_type": "code",
   "execution_count": null,
   "metadata": {},
   "outputs": [
    {
     "name": "stdout",
     "output_type": "stream",
     "text": [
      "Baseline Accuracy for \"no churn\" prediction on Telco dataset:  73.5%\n"
     ]
    }
   ],
   "source": [
    "# formulate baseline accuracy\n",
    "baseline_accuracy = (y_train == 0).mean()\n",
    "\n",
    "print(f'Baseline Accuracy for \\\"no churn\\\" prediction on Telco dataset: {(baseline_accuracy * 100): .3}%')"
   ]
  },
  {
   "cell_type": "code",
   "execution_count": null,
   "metadata": {},
   "outputs": [],
   "source": [
    "model_descriptions = pd.DataFrame({'Model': 'Baseline', \\\n",
    "    'Accuracy(Score)': baseline_accuracy,\n",
    "    'Type': 'Basic Baseline',\n",
    "    'Features Used': 'Baseline Prediction',\n",
    "    }, index=[0])"
   ]
  },
  {
   "cell_type": "code",
   "execution_count": null,
   "metadata": {},
   "outputs": [],
   "source": [
    "comparison_chart = model.create_comp_chart()"
   ]
  },
  {
   "cell_type": "markdown",
   "metadata": {},
   "source": [
    "## Models"
   ]
  },
  {
   "cell_type": "markdown",
   "metadata": {},
   "source": [
    "### Model A\n",
    "> Decision Tree\n",
    "* `max_depth` : 3\n",
    "* Features: monthly charges, tenure"
   ]
  },
  {
   "cell_type": "code",
   "execution_count": null,
   "metadata": {},
   "outputs": [],
   "source": [
    "#create, fit, use, model information to model_features dfram\n",
    "\n",
    "model_a = DecisionTreeClassifier(max_depth=3, random_state=514)\n",
    "\n",
    "#features to be used\n",
    "a_features = ['monthly_charges', 'tenure']\n",
    "\n",
    "#fit model\n",
    "model_a.fit(X_train[a_features], y_train)\n",
    "\n",
    "# compute metrics for model a and assign to comparison dataframe\n",
    "comparison_chart['Model A'] = model.compute_metrics(model_a, X_train[a_features], y_train).values\n",
    "\n",
    "#score model to add to model description dataframe\n",
    "score = model_a.score(X_train[a_features], y_train).round(3)\n",
    "\n",
    "# add model description to description dataframe\n",
    "model_descriptions.loc[1] = ['Model A', score, 'Decision Tree', 'monthly charges, tenure']\n"
   ]
  },
  {
   "cell_type": "markdown",
   "metadata": {},
   "source": [
    "### Model B\n",
    "> Decision Tree \n",
    "* `max_depth` : 5\n",
    "* Features: All"
   ]
  },
  {
   "cell_type": "code",
   "execution_count": null,
   "metadata": {},
   "outputs": [],
   "source": [
    "#create model object with adjusted parameters\n",
    "model_b = DecisionTreeClassifier(max_depth=5, random_state=514)\n",
    "\n",
    "#fit model to train subset\n",
    "model_b = model_b.fit(X_train, y_train)\n",
    "\n",
    "# compute metrics for model a and assign to comparison dataframe\n",
    "comparison_chart['Model B'] = model.compute_metrics(model_b, X_train, y_train).values\n",
    "\n",
    "#score model to add to model description dataframe\n",
    "score = model_b.score(X_train, y_train).round(3)\n",
    "\n",
    "# add model description to description dataframe\n",
    "model_descriptions.loc[2] = ['Model B', score, 'Decision Tree', 'All']\n"
   ]
  },
  {
   "cell_type": "markdown",
   "metadata": {},
   "source": [
    "### Model C\n",
    "> Decision Tree \n",
    "* `max_depth` : 6\n",
    "* Features: `tenure, monthly_charges, contract_type_One year, contract_type_Two year` "
   ]
  },
  {
   "cell_type": "code",
   "execution_count": null,
   "metadata": {},
   "outputs": [],
   "source": [
    "# create model object\n",
    "model_c = DecisionTreeClassifier(max_depth=6, random_state=514)\n",
    "\n",
    "# feature subset for models\n",
    "c_features = ['tenure', 'monthly_charges', 'contract_type_One year', 'contract_type_Two year']\n",
    "\n",
    "# fit model\n",
    "model_c.fit(X_train[c_features], y_train)\n",
    "\n",
    "#score model to add to model description dataframe\n",
    "score = model_c.score(X_train[c_features], y_train).round(3)\n",
    "\n",
    "# compute metrics for model a and assign to comparison dataframe. make sure to put in same features as above\n",
    "comparison_chart['Model C'] = model.compute_metrics(model_c, X_train[c_features], y_train).values\n",
    "\n",
    "# add model description to description dataframe\n",
    "model_descriptions.loc[3] = ['Model C', score, 'Decision Tree(max_depth=6)', 'tenure, monthly charges, contract type']\n"
   ]
  },
  {
   "cell_type": "markdown",
   "metadata": {},
   "source": [
    "### Model D\n",
    "> Random Forest\n",
    "* `max_depth` : 10\n",
    "* `min_samples_leaf: 1\n",
    "* Features: `all` "
   ]
  },
  {
   "cell_type": "code",
   "execution_count": null,
   "metadata": {},
   "outputs": [],
   "source": [
    "#create, fit, use, model information to model_features dfram\n",
    "model_d = DecisionTreeClassifier(max_depth=10 ,min_samples_leaf=1, random_state=514)\n",
    "\n",
    "#fit model\n",
    "model_d.fit(X_train, y_train)\n",
    "\n",
    "#score model to add to model description dataframe\n",
    "score = model_d.score(X_train, y_train).round(3)\n",
    "\n",
    "# compute metrics for model a and assign to comparison dataframe. make sure to put in same features as above\n",
    "comparison_chart['Model D'] = model.compute_metrics(model_d, X_train, y_train).values\n",
    "\n",
    "# add model description to description dataframe\n",
    "model_descriptions.loc[4] = ['Model D', score, 'Random Forest)', 'all']"
   ]
  },
  {
   "cell_type": "markdown",
   "metadata": {},
   "source": [
    "### Model E\n",
    "> Random Forest\n",
    "* `max_depth` : 5\n",
    "* `min_samples_leaf: 5\n",
    "* Features: tenure, monthly charges, contract type"
   ]
  },
  {
   "cell_type": "code",
   "execution_count": null,
   "metadata": {},
   "outputs": [],
   "source": [
    "#create, fit, use, model information to model_features dfram\n",
    "model_e = DecisionTreeClassifier(max_depth=10 ,min_samples_leaf=5, random_state=514)\n",
    "\n",
    "# feature subset for models\n",
    "e_features = ['tenure', 'monthly_charges', 'contract_type_One year', 'contract_type_Two year']\n",
    "\n",
    "# fit model\n",
    "model_e.fit(X_train[e_features], y_train)\n",
    "\n",
    "#score model to add to model description dataframe\n",
    "score = model_e.score(X_train[e_features], y_train).round(3)\n",
    "\n",
    "# compute metrics for model a and assign to comparison dataframe. make sure to put in same features as above\n",
    "comparison_chart['Model E'] = model.compute_metrics(model_e, X_train[e_features], y_train).values\n",
    "\n",
    "# add model description to description dataframe\n",
    "model_descriptions.loc[5] = ['Model E', score, 'Random Forest)', 'tenure, monthly charges, contract type']"
   ]
  },
  {
   "cell_type": "markdown",
   "metadata": {},
   "source": [
    "### Model F\n",
    "> Random Forest\n",
    "* `max_depth` : 10\n",
    "* `min_samples_leaf: 2\n",
    "* Features: tenure, monthly charges, contract type, internet service type "
   ]
  },
  {
   "cell_type": "code",
   "execution_count": null,
   "metadata": {},
   "outputs": [],
   "source": [
    "#create, fit, use, model information to model_features dfram\n",
    "model_f = DecisionTreeClassifier(max_depth=10 ,min_samples_leaf=2, random_state=514)\n",
    "\n",
    "#feature subset for models\n",
    "f_features = ['tenure', 'monthly_charges', 'contract_type_One year', 'contract_type_Two year', 'internet_service_type_Fiber optic']\n",
    "\n",
    "# fit model\n",
    "model_f.fit(X_train[f_features], y_train)\n",
    "\n",
    "#score model to add to model description dataframe\n",
    "score = model_f.score(X_train[f_features], y_train).round(3)\n",
    "\n",
    "# compute metrics for model a and assign to comparison dataframe. make sure to put in same features as above\n",
    "comparison_chart['Model F'] = model.compute_metrics(model_f, X_train[f_features], y_train).values\n",
    "\n",
    "# add model description to description dataframe\n",
    "model_descriptions.loc[6] = ['Model F', score, 'Random Forest)', 'tenure, monthly charges, contract type, internet service type']"
   ]
  },
  {
   "cell_type": "markdown",
   "metadata": {},
   "source": [
    "### Model G\n",
    "> KNN (K-Nearest Neighbors)\n",
    "* `n_neighbors`: 3\n",
    "* Features: `all` "
   ]
  },
  {
   "cell_type": "code",
   "execution_count": null,
   "metadata": {},
   "outputs": [],
   "source": [
    "#create, fit, use, model information to model_features dfram\n",
    "model_g = KNeighborsClassifier(n_neighbors = 3)\n",
    "\n",
    "# fit model\n",
    "model_g.fit(X_train, y_train)\n",
    "\n",
    "#score model to add to model description dataframe\n",
    "score = model_g.score(X_train, y_train).round(3)\n",
    "\n",
    "# compute metrics for model a and assign to comparison dataframe. make sure to put in same features as above\n",
    "comparison_chart['Model G'] = model.compute_metrics(model_g, X_train, y_train).values\n",
    "\n",
    "# add model description to description dataframe\n",
    "model_descriptions.loc[7] = ['Model G', score, 'Random Forest)', 'all']"
   ]
  },
  {
   "cell_type": "markdown",
   "metadata": {},
   "source": [
    "### Model H\n",
    "> KNN (K-Nearest Neighbors)\n",
    "* `n_neighbors`: 3\n",
    "* Features: tenure, monthly charges"
   ]
  },
  {
   "cell_type": "code",
   "execution_count": null,
   "metadata": {},
   "outputs": [],
   "source": [
    "#create, fit, use, model information to model_features dfram\n",
    "model_h = KNeighborsClassifier(n_neighbors = 3)\n",
    "\n",
    "#feature subset for models\n",
    "h_features = ['tenure', 'monthly_charges']\n",
    "\n",
    "# fit model\n",
    "model_h.fit(X_train[h_features], y_train)\n",
    "\n",
    "#score model to add to model description dataframe\n",
    "score = model_h.score(X_train[h_features], y_train).round(3)\n",
    "\n",
    "# compute metrics for model a and assign to comparison dataframe. make sure to put in same features as above\n",
    "comparison_chart['Model H'] = model.compute_metrics(model_h, X_train[h_features], y_train).values\n",
    "\n",
    "# add model description to description dataframe\n",
    "model_descriptions.loc[8] = ['Model h', score, 'Random Forest)', 'tenure, monthly charges']"
   ]
  },
  {
   "cell_type": "markdown",
   "metadata": {},
   "source": [
    "### Model I\n",
    "> Random Forest\n",
    "* `n_neighbors`: 3\n",
    "* Features: `tenure, monthly charges, internet service type` "
   ]
  },
  {
   "cell_type": "code",
   "execution_count": null,
   "metadata": {},
   "outputs": [],
   "source": [
    "#create, fit, use, model information to model_features dfram\n",
    "model_i = KNeighborsClassifier(n_neighbors=3)\n",
    "\n",
    "#feature subset for models\n",
    "i_features = ['tenure', 'monthly_charges', 'internet_service_type_Fiber optic']\n",
    "\n",
    "# fit model\n",
    "model_i.fit(X_train[i_features], y_train)\n",
    "\n",
    "#score model to add to model description dataframe\n",
    "score = model_i.score(X_train[i_features], y_train).round(3)\n",
    "\n",
    "# compute metrics for model a and assign to comparison dataframe. make sure to put in same features as above\n",
    "comparison_chart['Model I'] = model.compute_metrics(model_i, X_train[i_features], y_train).values\n",
    "\n",
    "# add model description to description dataframe\n",
    "model_descriptions.loc[9] = ['Model I', score, 'Random Forest)', 'tenure, monthly charges, internet service type']"
   ]
  },
  {
   "cell_type": "code",
   "execution_count": null,
   "metadata": {},
   "outputs": [
    {
     "data": {
      "image/png": "[encoded data removed]",
      "text/plain": [
       "<Figure size 432x288 with 1 Axes>"
      ]
     },
     "metadata": {},
     "output_type": "display_data"
    },
    {
     "data": {
      "text/plain": [
       "0.8264839613827469"
      ]
     },
     "metadata": {},
     "output_type": "display_data"
    }
   ],
   "source": [
    "k_range = range(1, 20)\n",
    "scores = []\n",
    "for k in k_range:\n",
    "    knn = KNeighborsClassifier(n_neighbors = k)\n",
    "    knn.fit(X_train, y_train)\n",
    "    scores.append(knn.score(X_train, y_train))\n",
    "plt.figure()\n",
    "plt.xlabel('k')\n",
    "plt.ylabel('accuracy')\n",
    "plt.scatter(k_range, scores)\n",
    "plt.xticks([0,5,10,15,20])\n",
    "plt.show()\n",
    "np.mean(scores)"
   ]
  },
  {
   "cell_type": "code",
   "execution_count": null,
   "metadata": {},
   "outputs": [
    {
     "data": {
      "image/png": "[encoded data removed]",
      "text/plain": [
       "<Figure size 432x288 with 1 Axes>"
      ]
     },
     "metadata": {},
     "output_type": "display_data"
    },
    {
     "data": {
      "text/plain": [
       "0.8262472749922142"
      ]
     },
     "metadata": {},
     "output_type": "display_data"
    }
   ],
   "source": [
    "k_range = range(1, 20)\n",
    "scores = []\n",
    "for k in k_range:\n",
    "    knn = KNeighborsClassifier(n_neighbors = k)\n",
    "    knn.fit(X_train[c_features], y_train)\n",
    "    scores.append(knn.score(X_train[c_features], y_train))\n",
    "plt.figure()\n",
    "plt.xlabel('k')\n",
    "plt.ylabel('accuracy')\n",
    "plt.scatter(k_range, scores)\n",
    "plt.xticks([0,5,10,15,20])\n",
    "plt.show()\n",
    "np.mean(scores)"
   ]
  },
  {
   "cell_type": "code",
   "execution_count": null,
   "metadata": {},
   "outputs": [
    {
     "data": {
      "image/png": "[encoded data removed]",
      "text/plain": [
       "<Figure size 432x288 with 1 Axes>"
      ]
     },
     "metadata": {},
     "output_type": "display_data"
    },
    {
     "data": {
      "text/plain": [
       "0.8264341326689505"
      ]
     },
     "metadata": {},
     "output_type": "display_data"
    }
   ],
   "source": [
    "k_range = range(1, 20)\n",
    "scores = []\n",
    "for k in k_range:\n",
    "    knn = KNeighborsClassifier(n_neighbors = k)\n",
    "    knn.fit(X_train[['tenure', 'monthly_charges', 'internet_service_type_Fiber optic']], y_train)\n",
    "    scores.append(knn.score(X_train[['tenure', 'monthly_charges', 'internet_service_type_Fiber optic']], y_train))\n",
    "plt.figure()\n",
    "plt.xlabel('k')\n",
    "plt.ylabel('accuracy')\n",
    "plt.scatter(k_range, scores)\n",
    "plt.xticks([0,5,10,15,20])\n",
    "plt.show()\n",
    "np.mean(scores)"
   ]
  },
  {
   "cell_type": "markdown",
   "metadata": {},
   "source": [
    "### Model J\n",
    "> Logistic Regression\n",
    "* Parameters: default\n",
    "* Features: all"
   ]
  },
  {
   "cell_type": "code",
   "execution_count": null,
   "metadata": {},
   "outputs": [],
   "source": [
    "#create, fit, use, model information to model_features dfram\n",
    "model_j = LogisticRegression(random_state=514)\n",
    "\n",
    "#feature subset for models\n",
    "j_features = X_train.columns\n",
    "\n",
    "#fit model\n",
    "model_j.fit(X_train[j_features], y_train)\n",
    "\n",
    "#score model to add to model description dataframe\n",
    "score = model_j.score(X_train[j_features], y_train).round(3)\n",
    "\n",
    "# compute metrics for model a and assign to comparison dataframe. make sure to put in same features as above\n",
    "comparison_chart['Model J'] = model.compute_metrics(model_j, X_train[j_features], y_train).values\n",
    "\n",
    "# add model description to description dataframe\n",
    "model_descriptions.loc[10] = ['Model J', score, 'Logistic Regression', 'all']"
   ]
  },
  {
   "cell_type": "markdown",
   "metadata": {},
   "source": [
    "### Model K\n",
    "> Logistic Regression\n",
    "* Parameters: `C=.1`\n",
    "* Features: all"
   ]
  },
  {
   "cell_type": "code",
   "execution_count": null,
   "metadata": {},
   "outputs": [],
   "source": [
    "#create, fit, use, model information to model_features dfram\n",
    "model_k = LogisticRegression(C=.1, random_state=514)\n",
    "\n",
    "#feature subset for models\n",
    "k_features = ['tenure', 'monthly_charges', 'internet_service_type_Fiber optic', 'internet_service_type_None']\n",
    "\n",
    "#fit model\n",
    "model_k.fit(X_train[k_features], y_train)\n",
    "\n",
    "#score model to add to model description dataframe\n",
    "score = model_k.score(X_train[k_features], y_train).round(3)\n",
    "\n",
    "# compute metrics for model a and assign to comparison dataframe. make sure to put in same features as above\n",
    "comparison_chart['Model K'] = model.compute_metrics(model_k, X_train[k_features], y_train).values\n",
    "\n",
    "# add model description to description dataframe\n",
    "model_descriptions.loc[11] = ['Model K', score, 'Logistic Regression', 'tenure, monthly charges, internet service type']"
   ]
  },
  {
   "cell_type": "markdown",
   "metadata": {},
   "source": [
    "### Model L\n",
    "> Logistic Regression\n",
    "* Parameters: `C=.5`\n",
    "* Features: all"
   ]
  },
  {
   "cell_type": "code",
   "execution_count": null,
   "metadata": {},
   "outputs": [],
   "source": [
    "#create, fit, use, model information to model_features dfram\n",
    "model_l = LogisticRegression(C=.5, class_weight='uniform', random_state=514)\n",
    "\n",
    "#feature subset for models\n",
    "l_features = ['tenure', 'monthly_charges', 'internet_service_type_Fiber optic', 'internet_service_type_None']\n",
    "\n",
    "#fit model\n",
    "model_l.fit(X_train[l_features], y_train)\n",
    "\n",
    "# score model to add to model description dataframe\n",
    "score = model_l.score(X_train[l_features], y_train).round(3)\n",
    "\n",
    "# compute metrics for model a and assign to comparison dataframe. make sure to put in same features as above\n",
    "comparison_chart['Model L'] = model.compute_metrics(model_l, X_train[l_features], y_train).values\n",
    "\n",
    "# add model description to description dataframe\n",
    "model_descriptions.loc[12] = ['Model L', score, 'Logistic Regression', 'tenure, monthly charges, internet service type']\n",
    "\n"
   ]
  },
  {
   "cell_type": "markdown",
   "metadata": {},
   "source": [
    "## Model Description and Comparison Charts\n"
   ]
  },
  {
   "cell_type": "code",
   "execution_count": null,
   "metadata": {},
   "outputs": [
    {
     "data": {
      "text/html": [
       "<div>\n",
       "<style scoped>\n",
       "    .dataframe tbody tr th:only-of-type {\n",
       "        vertical-align: middle;\n",
       "    }\n",
       "\n",
       "    .dataframe tbody tr th {\n",
       "        vertical-align: top;\n",
       "    }\n",
       "\n",
       "    .dataframe thead th {\n",
       "        text-align: right;\n",
       "    }\n",
       "</style>\n",
       "<table border=\"1\" class=\"dataframe\">\n",
       "  <thead>\n",
       "    <tr style=\"text-align: right;\">\n",
       "      <th></th>\n",
       "      <th>Model</th>\n",
       "      <th>Accuracy(Score)</th>\n",
       "      <th>Type</th>\n",
       "      <th>Features Used</th>\n",
       "    </tr>\n",
       "  </thead>\n",
       "  <tbody>\n",
       "    <tr>\n",
       "      <th>0</th>\n",
       "      <td>Baseline</td>\n",
       "      <td>0.734675</td>\n",
       "      <td>Basic Baseline</td>\n",
       "      <td>Baseline Prediction</td>\n",
       "    </tr>\n",
       "    <tr>\n",
       "      <th>1</th>\n",
       "      <td>Model A</td>\n",
       "      <td>0.786000</td>\n",
       "      <td>Decision Tree</td>\n",
       "      <td>monthly charges, tenure</td>\n",
       "    </tr>\n",
       "    <tr>\n",
       "      <th>2</th>\n",
       "      <td>Model B</td>\n",
       "      <td>0.807000</td>\n",
       "      <td>Decision Tree</td>\n",
       "      <td>All</td>\n",
       "    </tr>\n",
       "    <tr>\n",
       "      <th>3</th>\n",
       "      <td>Model C</td>\n",
       "      <td>0.806000</td>\n",
       "      <td>Decision Tree(max_depth=6)</td>\n",
       "      <td>tenure, monthly charges, contract type</td>\n",
       "    </tr>\n",
       "    <tr>\n",
       "      <th>4</th>\n",
       "      <td>Model D</td>\n",
       "      <td>0.890000</td>\n",
       "      <td>Random Forest)</td>\n",
       "      <td>all</td>\n",
       "    </tr>\n",
       "    <tr>\n",
       "      <th>5</th>\n",
       "      <td>Model E</td>\n",
       "      <td>0.837000</td>\n",
       "      <td>Random Forest)</td>\n",
       "      <td>tenure, monthly charges, contract type</td>\n",
       "    </tr>\n",
       "    <tr>\n",
       "      <th>6</th>\n",
       "      <td>Model F</td>\n",
       "      <td>0.846000</td>\n",
       "      <td>Random Forest)</td>\n",
       "      <td>tenure, monthly charges, contract type, intern...</td>\n",
       "    </tr>\n",
       "    <tr>\n",
       "      <th>7</th>\n",
       "      <td>Model G</td>\n",
       "      <td>0.856000</td>\n",
       "      <td>Random Forest)</td>\n",
       "      <td>all</td>\n",
       "    </tr>\n",
       "    <tr>\n",
       "      <th>8</th>\n",
       "      <td>Model h</td>\n",
       "      <td>0.859000</td>\n",
       "      <td>Random Forest)</td>\n",
       "      <td>tenure, monthly charges</td>\n",
       "    </tr>\n",
       "    <tr>\n",
       "      <th>9</th>\n",
       "      <td>Model I</td>\n",
       "      <td>0.861000</td>\n",
       "      <td>Random Forest)</td>\n",
       "      <td>tenure, monthly charges, internet service type</td>\n",
       "    </tr>\n",
       "    <tr>\n",
       "      <th>10</th>\n",
       "      <td>Model J</td>\n",
       "      <td>0.809000</td>\n",
       "      <td>Logistic Regression</td>\n",
       "      <td>all</td>\n",
       "    </tr>\n",
       "    <tr>\n",
       "      <th>11</th>\n",
       "      <td>Model K</td>\n",
       "      <td>0.788000</td>\n",
       "      <td>Logistic Regression</td>\n",
       "      <td>tenure, monthly charges, internet service type</td>\n",
       "    </tr>\n",
       "    <tr>\n",
       "      <th>12</th>\n",
       "      <td>Model L</td>\n",
       "      <td>0.785000</td>\n",
       "      <td>Logistic Regression</td>\n",
       "      <td>tenure, monthly charges, internet service type</td>\n",
       "    </tr>\n",
       "  </tbody>\n",
       "</table>\n",
       "</div>"
      ],
      "text/plain": [
       "       Model  Accuracy(Score)                        Type  \\\n",
       "0   Baseline         0.734675              Basic Baseline   \n",
       "1    Model A         0.786000               Decision Tree   \n",
       "2    Model B         0.807000               Decision Tree   \n",
       "3    Model C         0.806000  Decision Tree(max_depth=6)   \n",
       "4    Model D         0.890000              Random Forest)   \n",
       "5    Model E         0.837000              Random Forest)   \n",
       "6    Model F         0.846000              Random Forest)   \n",
       "7    Model G         0.856000              Random Forest)   \n",
       "8    Model h         0.859000              Random Forest)   \n",
       "9    Model I         0.861000              Random Forest)   \n",
       "10   Model J         0.809000         Logistic Regression   \n",
       "11   Model K         0.788000         Logistic Regression   \n",
       "12   Model L         0.785000         Logistic Regression   \n",
       "\n",
       "                                        Features Used  \n",
       "0                                 Baseline Prediction  \n",
       "1                             monthly charges, tenure  \n",
       "2                                                 All  \n",
       "3              tenure, monthly charges, contract type  \n",
       "4                                                 all  \n",
       "5              tenure, monthly charges, contract type  \n",
       "6   tenure, monthly charges, contract type, intern...  \n",
       "7                                                 all  \n",
       "8                             tenure, monthly charges  \n",
       "9      tenure, monthly charges, internet service type  \n",
       "10                                                all  \n",
       "11     tenure, monthly charges, internet service type  \n",
       "12     tenure, monthly charges, internet service type  "
      ]
     },
     "metadata": {},
     "output_type": "display_data"
    }
   ],
   "source": [
    "#model descriptions\n",
    "model_descriptions"
   ]
  },
  {
   "cell_type": "code",
   "execution_count": null,
   "metadata": {},
   "outputs": [
    {
     "data": {
      "text/html": [
       "<div>\n",
       "<style scoped>\n",
       "    .dataframe tbody tr th:only-of-type {\n",
       "        vertical-align: middle;\n",
       "    }\n",
       "\n",
       "    .dataframe tbody tr th {\n",
       "        vertical-align: top;\n",
       "    }\n",
       "\n",
       "    .dataframe thead th {\n",
       "        text-align: right;\n",
       "    }\n",
       "</style>\n",
       "<table border=\"1\" class=\"dataframe\">\n",
       "  <thead>\n",
       "    <tr style=\"text-align: right;\">\n",
       "      <th></th>\n",
       "      <th>Model A</th>\n",
       "      <th>Model B</th>\n",
       "      <th>Model C</th>\n",
       "      <th>Model D</th>\n",
       "      <th>Model E</th>\n",
       "      <th>Model F</th>\n",
       "      <th>Model G</th>\n",
       "      <th>Model H</th>\n",
       "      <th>Model I</th>\n",
       "      <th>Model J</th>\n",
       "      <th>Model K</th>\n",
       "      <th>Model L</th>\n",
       "    </tr>\n",
       "  </thead>\n",
       "  <tbody>\n",
       "    <tr>\n",
       "      <th>Accuracy/Score</th>\n",
       "      <td>0.79</td>\n",
       "      <td>0.81</td>\n",
       "      <td>0.81</td>\n",
       "      <td>0.89</td>\n",
       "      <td>0.84</td>\n",
       "      <td>0.85</td>\n",
       "      <td>0.86</td>\n",
       "      <td>0.86</td>\n",
       "      <td>0.86</td>\n",
       "      <td>0.81</td>\n",
       "      <td>0.79</td>\n",
       "      <td>0.78</td>\n",
       "    </tr>\n",
       "    <tr>\n",
       "      <th>True Positives</th>\n",
       "      <td>452.00</td>\n",
       "      <td>616.00</td>\n",
       "      <td>649.00</td>\n",
       "      <td>866.00</td>\n",
       "      <td>750.00</td>\n",
       "      <td>688.00</td>\n",
       "      <td>719.00</td>\n",
       "      <td>749.00</td>\n",
       "      <td>756.00</td>\n",
       "      <td>622.00</td>\n",
       "      <td>505.00</td>\n",
       "      <td>505.00</td>\n",
       "    </tr>\n",
       "    <tr>\n",
       "      <th>False Postives</th>\n",
       "      <td>236.00</td>\n",
       "      <td>310.00</td>\n",
       "      <td>349.00</td>\n",
       "      <td>208.00</td>\n",
       "      <td>319.00</td>\n",
       "      <td>216.00</td>\n",
       "      <td>208.00</td>\n",
       "      <td>224.00</td>\n",
       "      <td>223.00</td>\n",
       "      <td>307.00</td>\n",
       "      <td>281.00</td>\n",
       "      <td>293.00</td>\n",
       "    </tr>\n",
       "    <tr>\n",
       "      <th>True Negatives</th>\n",
       "      <td>2868.00</td>\n",
       "      <td>2794.00</td>\n",
       "      <td>2755.00</td>\n",
       "      <td>2896.00</td>\n",
       "      <td>2785.00</td>\n",
       "      <td>2888.00</td>\n",
       "      <td>2896.00</td>\n",
       "      <td>2880.00</td>\n",
       "      <td>2881.00</td>\n",
       "      <td>2797.00</td>\n",
       "      <td>2823.00</td>\n",
       "      <td>2811.00</td>\n",
       "    </tr>\n",
       "    <tr>\n",
       "      <th>False Negatives</th>\n",
       "      <td>669.00</td>\n",
       "      <td>505.00</td>\n",
       "      <td>472.00</td>\n",
       "      <td>255.00</td>\n",
       "      <td>371.00</td>\n",
       "      <td>433.00</td>\n",
       "      <td>402.00</td>\n",
       "      <td>372.00</td>\n",
       "      <td>365.00</td>\n",
       "      <td>499.00</td>\n",
       "      <td>616.00</td>\n",
       "      <td>616.00</td>\n",
       "    </tr>\n",
       "    <tr>\n",
       "      <th>TPR/Recall</th>\n",
       "      <td>0.40</td>\n",
       "      <td>0.55</td>\n",
       "      <td>0.58</td>\n",
       "      <td>0.77</td>\n",
       "      <td>0.67</td>\n",
       "      <td>0.61</td>\n",
       "      <td>0.64</td>\n",
       "      <td>0.67</td>\n",
       "      <td>0.67</td>\n",
       "      <td>0.55</td>\n",
       "      <td>0.45</td>\n",
       "      <td>0.45</td>\n",
       "    </tr>\n",
       "    <tr>\n",
       "      <th>False Positive Rate</th>\n",
       "      <td>0.08</td>\n",
       "      <td>0.10</td>\n",
       "      <td>0.11</td>\n",
       "      <td>0.07</td>\n",
       "      <td>0.10</td>\n",
       "      <td>0.07</td>\n",
       "      <td>0.07</td>\n",
       "      <td>0.07</td>\n",
       "      <td>0.07</td>\n",
       "      <td>0.10</td>\n",
       "      <td>0.09</td>\n",
       "      <td>0.09</td>\n",
       "    </tr>\n",
       "    <tr>\n",
       "      <th>True Negative Rate</th>\n",
       "      <td>0.92</td>\n",
       "      <td>0.90</td>\n",
       "      <td>0.89</td>\n",
       "      <td>0.93</td>\n",
       "      <td>0.90</td>\n",
       "      <td>0.93</td>\n",
       "      <td>0.93</td>\n",
       "      <td>0.93</td>\n",
       "      <td>0.93</td>\n",
       "      <td>0.90</td>\n",
       "      <td>0.91</td>\n",
       "      <td>0.91</td>\n",
       "    </tr>\n",
       "    <tr>\n",
       "      <th>False Negative Rate</th>\n",
       "      <td>0.60</td>\n",
       "      <td>0.45</td>\n",
       "      <td>0.42</td>\n",
       "      <td>0.23</td>\n",
       "      <td>0.33</td>\n",
       "      <td>0.39</td>\n",
       "      <td>0.36</td>\n",
       "      <td>0.33</td>\n",
       "      <td>0.33</td>\n",
       "      <td>0.45</td>\n",
       "      <td>0.55</td>\n",
       "      <td>0.55</td>\n",
       "    </tr>\n",
       "    <tr>\n",
       "      <th>Precision</th>\n",
       "      <td>0.66</td>\n",
       "      <td>0.67</td>\n",
       "      <td>0.65</td>\n",
       "      <td>0.81</td>\n",
       "      <td>0.70</td>\n",
       "      <td>0.76</td>\n",
       "      <td>0.78</td>\n",
       "      <td>0.77</td>\n",
       "      <td>0.77</td>\n",
       "      <td>0.67</td>\n",
       "      <td>0.64</td>\n",
       "      <td>0.63</td>\n",
       "    </tr>\n",
       "    <tr>\n",
       "      <th>F1-Score</th>\n",
       "      <td>0.50</td>\n",
       "      <td>0.60</td>\n",
       "      <td>0.61</td>\n",
       "      <td>0.79</td>\n",
       "      <td>0.68</td>\n",
       "      <td>0.68</td>\n",
       "      <td>0.70</td>\n",
       "      <td>0.72</td>\n",
       "      <td>0.72</td>\n",
       "      <td>0.61</td>\n",
       "      <td>0.53</td>\n",
       "      <td>0.53</td>\n",
       "    </tr>\n",
       "    <tr>\n",
       "      <th>Support Positive</th>\n",
       "      <td>1121.00</td>\n",
       "      <td>1121.00</td>\n",
       "      <td>1121.00</td>\n",
       "      <td>1121.00</td>\n",
       "      <td>1121.00</td>\n",
       "      <td>1121.00</td>\n",
       "      <td>1121.00</td>\n",
       "      <td>1121.00</td>\n",
       "      <td>1121.00</td>\n",
       "      <td>1121.00</td>\n",
       "      <td>1121.00</td>\n",
       "      <td>1121.00</td>\n",
       "    </tr>\n",
       "    <tr>\n",
       "      <th>Support Negative</th>\n",
       "      <td>3104.00</td>\n",
       "      <td>3104.00</td>\n",
       "      <td>3104.00</td>\n",
       "      <td>3104.00</td>\n",
       "      <td>3104.00</td>\n",
       "      <td>3104.00</td>\n",
       "      <td>3104.00</td>\n",
       "      <td>3104.00</td>\n",
       "      <td>3104.00</td>\n",
       "      <td>3104.00</td>\n",
       "      <td>3104.00</td>\n",
       "      <td>3104.00</td>\n",
       "    </tr>\n",
       "  </tbody>\n",
       "</table>\n",
       "</div>"
      ],
      "text/plain": [
       "                     Model A  Model B  Model C  Model D  Model E  Model F  \\\n",
       "Accuracy/Score          0.79     0.81     0.81     0.89     0.84     0.85   \n",
       "True Positives        452.00   616.00   649.00   866.00   750.00   688.00   \n",
       "False Postives        236.00   310.00   349.00   208.00   319.00   216.00   \n",
       "True Negatives       2868.00  2794.00  2755.00  2896.00  2785.00  2888.00   \n",
       "False Negatives       669.00   505.00   472.00   255.00   371.00   433.00   \n",
       "TPR/Recall              0.40     0.55     0.58     0.77     0.67     0.61   \n",
       "False Positive Rate     0.08     0.10     0.11     0.07     0.10     0.07   \n",
       "True Negative Rate      0.92     0.90     0.89     0.93     0.90     0.93   \n",
       "False Negative Rate     0.60     0.45     0.42     0.23     0.33     0.39   \n",
       "Precision               0.66     0.67     0.65     0.81     0.70     0.76   \n",
       "F1-Score                0.50     0.60     0.61     0.79     0.68     0.68   \n",
       "Support Positive     1121.00  1121.00  1121.00  1121.00  1121.00  1121.00   \n",
       "Support Negative     3104.00  3104.00  3104.00  3104.00  3104.00  3104.00   \n",
       "\n",
       "                     Model G  Model H  Model I  Model J  Model K  Model L  \n",
       "Accuracy/Score          0.86     0.86     0.86     0.81     0.79     0.78  \n",
       "True Positives        719.00   749.00   756.00   622.00   505.00   505.00  \n",
       "False Postives        208.00   224.00   223.00   307.00   281.00   293.00  \n",
       "True Negatives       2896.00  2880.00  2881.00  2797.00  2823.00  2811.00  \n",
       "False Negatives       402.00   372.00   365.00   499.00   616.00   616.00  \n",
       "TPR/Recall              0.64     0.67     0.67     0.55     0.45     0.45  \n",
       "False Positive Rate     0.07     0.07     0.07     0.10     0.09     0.09  \n",
       "True Negative Rate      0.93     0.93     0.93     0.90     0.91     0.91  \n",
       "False Negative Rate     0.36     0.33     0.33     0.45     0.55     0.55  \n",
       "Precision               0.78     0.77     0.77     0.67     0.64     0.63  \n",
       "F1-Score                0.70     0.72     0.72     0.61     0.53     0.53  \n",
       "Support Positive     1121.00  1121.00  1121.00  1121.00  1121.00  1121.00  \n",
       "Support Negative     3104.00  3104.00  3104.00  3104.00  3104.00  3104.00  "
      ]
     },
     "metadata": {},
     "output_type": "display_data"
    }
   ],
   "source": [
    "# model comparison chart\n",
    "comparison_chart\n"
   ]
  },
  {
   "cell_type": "markdown",
   "metadata": {},
   "source": [
    "## Model Creation Takeaways\n",
    "* The Decision Tree and Logistic Regression models did not perform well \n",
    "* Best Models are D, G, I "
   ]
  },
  {
   "cell_type": "markdown",
   "metadata": {},
   "source": [
    "## Model Validation"
   ]
  },
  {
   "cell_type": "code",
   "execution_count": null,
   "metadata": {},
   "outputs": [],
   "source": [
    "#create validation chart for comparison\n",
    "validate_comparison = model.create_comp_chart()\n",
    "\n",
    "#create feature lists if needed \n",
    "model_i_features = ['tenure', 'monthly_charges', 'internet_service_type_Fiber optic']\n",
    "\n",
    "#add metrics to validate comparison dataframe\n",
    "validate_comparison['Model D'] = model.compute_metrics(model_d, X_validate, y_validate).values\n",
    "validate_comparison['Model G'] = model.compute_metrics(model_g, X_validate, y_validate).values\n",
    "validate_comparison['Model I'] = model.compute_metrics(model_i, X_validate[model_i_features], y_validate).values\n"
   ]
  },
  {
   "cell_type": "code",
   "execution_count": null,
   "metadata": {},
   "outputs": [
    {
     "data": {
      "text/html": [
       "<div>\n",
       "<style scoped>\n",
       "    .dataframe tbody tr th:only-of-type {\n",
       "        vertical-align: middle;\n",
       "    }\n",
       "\n",
       "    .dataframe tbody tr th {\n",
       "        vertical-align: top;\n",
       "    }\n",
       "\n",
       "    .dataframe thead th {\n",
       "        text-align: right;\n",
       "    }\n",
       "</style>\n",
       "<table border=\"1\" class=\"dataframe\">\n",
       "  <thead>\n",
       "    <tr style=\"text-align: right;\">\n",
       "      <th></th>\n",
       "      <th>Model D</th>\n",
       "      <th>Model G</th>\n",
       "      <th>Model I</th>\n",
       "    </tr>\n",
       "  </thead>\n",
       "  <tbody>\n",
       "    <tr>\n",
       "      <th>Accuracy/Score</th>\n",
       "      <td>0.75</td>\n",
       "      <td>0.74</td>\n",
       "      <td>0.76</td>\n",
       "    </tr>\n",
       "    <tr>\n",
       "      <th>True Positives</th>\n",
       "      <td>194.00</td>\n",
       "      <td>149.00</td>\n",
       "      <td>174.00</td>\n",
       "    </tr>\n",
       "    <tr>\n",
       "      <th>False Postives</th>\n",
       "      <td>166.00</td>\n",
       "      <td>147.00</td>\n",
       "      <td>143.00</td>\n",
       "    </tr>\n",
       "    <tr>\n",
       "      <th>True Negatives</th>\n",
       "      <td>869.00</td>\n",
       "      <td>888.00</td>\n",
       "      <td>892.00</td>\n",
       "    </tr>\n",
       "    <tr>\n",
       "      <th>False Negatives</th>\n",
       "      <td>180.00</td>\n",
       "      <td>225.00</td>\n",
       "      <td>200.00</td>\n",
       "    </tr>\n",
       "    <tr>\n",
       "      <th>TPR/Recall</th>\n",
       "      <td>0.52</td>\n",
       "      <td>0.40</td>\n",
       "      <td>0.47</td>\n",
       "    </tr>\n",
       "    <tr>\n",
       "      <th>False Positive Rate</th>\n",
       "      <td>0.16</td>\n",
       "      <td>0.14</td>\n",
       "      <td>0.14</td>\n",
       "    </tr>\n",
       "    <tr>\n",
       "      <th>True Negative Rate</th>\n",
       "      <td>0.84</td>\n",
       "      <td>0.86</td>\n",
       "      <td>0.86</td>\n",
       "    </tr>\n",
       "    <tr>\n",
       "      <th>False Negative Rate</th>\n",
       "      <td>0.48</td>\n",
       "      <td>0.60</td>\n",
       "      <td>0.53</td>\n",
       "    </tr>\n",
       "    <tr>\n",
       "      <th>Precision</th>\n",
       "      <td>0.54</td>\n",
       "      <td>0.50</td>\n",
       "      <td>0.55</td>\n",
       "    </tr>\n",
       "    <tr>\n",
       "      <th>F1-Score</th>\n",
       "      <td>0.53</td>\n",
       "      <td>0.44</td>\n",
       "      <td>0.50</td>\n",
       "    </tr>\n",
       "    <tr>\n",
       "      <th>Support Positive</th>\n",
       "      <td>374.00</td>\n",
       "      <td>374.00</td>\n",
       "      <td>374.00</td>\n",
       "    </tr>\n",
       "    <tr>\n",
       "      <th>Support Negative</th>\n",
       "      <td>1035.00</td>\n",
       "      <td>1035.00</td>\n",
       "      <td>1035.00</td>\n",
       "    </tr>\n",
       "  </tbody>\n",
       "</table>\n",
       "</div>"
      ],
      "text/plain": [
       "                     Model D  Model G  Model I\n",
       "Accuracy/Score          0.75     0.74     0.76\n",
       "True Positives        194.00   149.00   174.00\n",
       "False Postives        166.00   147.00   143.00\n",
       "True Negatives        869.00   888.00   892.00\n",
       "False Negatives       180.00   225.00   200.00\n",
       "TPR/Recall              0.52     0.40     0.47\n",
       "False Positive Rate     0.16     0.14     0.14\n",
       "True Negative Rate      0.84     0.86     0.86\n",
       "False Negative Rate     0.48     0.60     0.53\n",
       "Precision               0.54     0.50     0.55\n",
       "F1-Score                0.53     0.44     0.50\n",
       "Support Positive      374.00   374.00   374.00\n",
       "Support Negative     1035.00  1035.00  1035.00"
      ]
     },
     "metadata": {},
     "output_type": "display_data"
    }
   ],
   "source": [
    "validate_comparison"
   ]
  },
  {
   "cell_type": "markdown",
   "metadata": {},
   "source": [
    "### Takeaways\n",
    "> Initial: All three chosen sets perform baseline. Need to re-adjust and re-attempt"
   ]
  },
  {
   "cell_type": "code",
   "execution_count": null,
   "metadata": {},
   "outputs": [
    {
     "data": {
      "text/plain": [
       "0        0.77\n",
       "1      187.00\n",
       "2      139.00\n",
       "3      896.00\n",
       "4      187.00\n",
       "5        0.50\n",
       "6        0.13\n",
       "7        0.87\n",
       "8        0.50\n",
       "9        0.57\n",
       "10       0.53\n",
       "11     374.00\n",
       "12    1035.00\n",
       "dtype: float64"
      ]
     },
     "metadata": {},
     "output_type": "display_data"
    }
   ],
   "source": [
    "model.compute_metrics(model_i, X_test[model_i_features], y_test)"
   ]
  },
  {
   "cell_type": "code",
   "execution_count": null,
   "metadata": {},
   "outputs": [],
   "source": [
    "# Make Predictions\n",
    "y_pred = model_i.predict(X_test[model_i_features])\n",
    "\n",
    "# Estimate Probability \n",
    "y_pred_proba = model_i.predict_proba(X_test[model_i_features])"
   ]
  },
  {
   "cell_type": "code",
   "execution_count": null,
   "metadata": {},
   "outputs": [],
   "source": [
    "# final_predictions = pd.DataFrame({'Predictions':y_pred, 'Probability': y_pred_proba})"
   ]
  },
  {
   "cell_type": "code",
   "execution_count": null,
   "metadata": {},
   "outputs": [
    {
     "data": {
      "text/plain": [
       "array([0.33333333, 0.33333333, 0.33333333, ..., 0.        , 0.        ,\n",
       "       0.66666667])"
      ]
     },
     "metadata": {},
     "output_type": "display_data"
    }
   ],
   "source": [
    "y_pred_proba[:,1]"
   ]
  },
  {
   "cell_type": "code",
   "execution_count": null,
   "metadata": {},
   "outputs": [],
   "source": [
    "probabilities = pd.Series(y_pred_proba[:,1], index=X_test.index)"
   ]
  },
  {
   "cell_type": "code",
   "execution_count": null,
   "metadata": {},
   "outputs": [],
   "source": [
    "predictions = pd.Series(y_pred, index=X_test.index)"
   ]
  },
  {
   "cell_type": "code",
   "execution_count": null,
   "metadata": {},
   "outputs": [],
   "source": [
    "final_predictions = pd.DataFrame(pd.concat([probabilities, predictions], axis=1))"
   ]
  },
  {
   "cell_type": "code",
   "execution_count": null,
   "metadata": {},
   "outputs": [],
   "source": [
    "# final_predictions.merge(df[['customer_id']], left_on=final_predictions.index, right_on=df[['customer_id']].index)"
   ]
  },
  {
   "cell_type": "code",
   "execution_count": null,
   "metadata": {},
   "outputs": [],
   "source": [
    "customer_id = df[['customer_id']].iloc[predictions.index]"
   ]
  },
  {
   "cell_type": "code",
   "execution_count": null,
   "metadata": {},
   "outputs": [],
   "source": [
    "final_final_predictions = pd.concat([customer_id, final_predictions], axis=1)"
   ]
  },
  {
   "cell_type": "code",
   "execution_count": null,
   "metadata": {},
   "outputs": [
    {
     "data": {
      "text/html": [
       "<div>\n",
       "<style scoped>\n",
       "    .dataframe tbody tr th:only-of-type {\n",
       "        vertical-align: middle;\n",
       "    }\n",
       "\n",
       "    .dataframe tbody tr th {\n",
       "        vertical-align: top;\n",
       "    }\n",
       "\n",
       "    .dataframe thead th {\n",
       "        text-align: right;\n",
       "    }\n",
       "</style>\n",
       "<table border=\"1\" class=\"dataframe\">\n",
       "  <thead>\n",
       "    <tr style=\"text-align: right;\">\n",
       "      <th></th>\n",
       "      <th>customer_id</th>\n",
       "      <th>0</th>\n",
       "      <th>1</th>\n",
       "    </tr>\n",
       "  </thead>\n",
       "  <tbody>\n",
       "    <tr>\n",
       "      <th>2899</th>\n",
       "      <td>4130-MZLCC</td>\n",
       "      <td>0.333333</td>\n",
       "      <td>0</td>\n",
       "    </tr>\n",
       "    <tr>\n",
       "      <th>55</th>\n",
       "      <td>0096-BXERS</td>\n",
       "      <td>0.333333</td>\n",
       "      <td>0</td>\n",
       "    </tr>\n",
       "    <tr>\n",
       "      <th>384</th>\n",
       "      <td>0567-XRHCU</td>\n",
       "      <td>0.333333</td>\n",
       "      <td>0</td>\n",
       "    </tr>\n",
       "    <tr>\n",
       "      <th>5828</th>\n",
       "      <td>8203-XJZRC</td>\n",
       "      <td>0.333333</td>\n",
       "      <td>0</td>\n",
       "    </tr>\n",
       "    <tr>\n",
       "      <th>188</th>\n",
       "      <td>0303-WMMRN</td>\n",
       "      <td>0.333333</td>\n",
       "      <td>0</td>\n",
       "    </tr>\n",
       "  </tbody>\n",
       "</table>\n",
       "</div>"
      ],
      "text/plain": [
       "     customer_id         0  1\n",
       "2899  4130-MZLCC  0.333333  0\n",
       "55    0096-BXERS  0.333333  0\n",
       "384   0567-XRHCU  0.333333  0\n",
       "5828  8203-XJZRC  0.333333  0\n",
       "188   0303-WMMRN  0.333333  0"
      ]
     },
     "metadata": {},
     "output_type": "display_data"
    }
   ],
   "source": [
    "final_final_predictions.head()"
   ]
  },
  {
   "cell_type": "code",
   "execution_count": null,
   "metadata": {},
   "outputs": [],
   "source": [
    "final_final_predictions.columns = ['Customer Id', 'Probabilities', 'Predictions' ]"
   ]
  },
  {
   "cell_type": "code",
   "execution_count": null,
   "metadata": {},
   "outputs": [],
   "source": [
    "final_final_predictions.to_csv('fina_predictions.csv')"
   ]
  },
  {
   "cell_type": "markdown",
   "metadata": {},
   "source": [
    "# Conclusions "
   ]
  },
  {
   "cell_type": "markdown",
   "metadata": {},
   "source": []
  },
  {
   "cell_type": "code",
   "execution_count": null,
   "metadata": {},
   "outputs": [],
   "source": []
  }
 ],
 "metadata": {
  "kernelspec": {
   "display_name": "Python 3.9.12 ('base')",
   "language": "python",
   "name": "python3"
  },
  "language_info": {
   "codemirror_mode": {
    "name": "ipython",
    "version": 3
   },
   "file_extension": ".py",
   "mimetype": "text/x-python",
   "name": "python",
   "nbconvert_exporter": "python",
   "pygments_lexer": "ipython3",
   "version": "3.9.12"
  },
  "orig_nbformat": 4,
  "vscode": {
   "interpreter": {
    "hash": "38cca0c38332a56087b24af0bc80247f4fced29cb4f7f437d91dc159adec9c4e"
   }
  }
 },
 "nbformat": 4,
 "nbformat_minor": 2
}
