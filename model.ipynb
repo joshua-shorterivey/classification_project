{
 "cells": [
  {
   "cell_type": "code",
   "execution_count": 46,
   "metadata": {},
   "outputs": [],
   "source": [
    "import pandas as pd\n",
    "import numpy as np\n",
    "import matplotlib.pyplot as plt\n",
    "import seaborn as sns\n",
    "import acquire\n",
    "import prepare\n",
    "import model\n",
    "\n",
    "from scipy import stats\n",
    "from sklearn.model_selection import train_test_split\n",
    "from sklearn.tree import DecisionTreeClassifier, plot_tree\n",
    "from sklearn.ensemble import RandomForestClassifier\n",
    "from sklearn.neighbors import KNeighborsClassifier\n",
    "from sklearn.metrics import classification_report, confusion_matrix, ConfusionMatrixDisplay\n",
    "from sklearn.linear_model import LogisticRegression"
   ]
  },
  {
   "cell_type": "code",
   "execution_count": 47,
   "metadata": {},
   "outputs": [
    {
     "data": {
      "text/html": [
       "<div>\n",
       "<style scoped>\n",
       "    .dataframe tbody tr th:only-of-type {\n",
       "        vertical-align: middle;\n",
       "    }\n",
       "\n",
       "    .dataframe tbody tr th {\n",
       "        vertical-align: top;\n",
       "    }\n",
       "\n",
       "    .dataframe thead th {\n",
       "        text-align: right;\n",
       "    }\n",
       "</style>\n",
       "<table border=\"1\" class=\"dataframe\">\n",
       "  <thead>\n",
       "    <tr style=\"text-align: right;\">\n",
       "      <th></th>\n",
       "      <th>internet_service_type_id</th>\n",
       "      <th>payment_type_id</th>\n",
       "      <th>contract_type_id</th>\n",
       "      <th>customer_id</th>\n",
       "      <th>gender</th>\n",
       "      <th>senior_citizen</th>\n",
       "      <th>partner</th>\n",
       "      <th>dependents</th>\n",
       "      <th>tenure</th>\n",
       "      <th>phone_service</th>\n",
       "      <th>...</th>\n",
       "      <th>tech_support</th>\n",
       "      <th>streaming_tv</th>\n",
       "      <th>streaming_movies</th>\n",
       "      <th>paperless_billing</th>\n",
       "      <th>monthly_charges</th>\n",
       "      <th>total_charges</th>\n",
       "      <th>churn</th>\n",
       "      <th>contract_type</th>\n",
       "      <th>payment_type</th>\n",
       "      <th>internet_service_type</th>\n",
       "    </tr>\n",
       "  </thead>\n",
       "  <tbody>\n",
       "    <tr>\n",
       "      <th>0</th>\n",
       "      <td>1</td>\n",
       "      <td>2</td>\n",
       "      <td>2</td>\n",
       "      <td>0002-ORFBO</td>\n",
       "      <td>Female</td>\n",
       "      <td>0</td>\n",
       "      <td>Yes</td>\n",
       "      <td>Yes</td>\n",
       "      <td>9</td>\n",
       "      <td>Yes</td>\n",
       "      <td>...</td>\n",
       "      <td>Yes</td>\n",
       "      <td>Yes</td>\n",
       "      <td>No</td>\n",
       "      <td>Yes</td>\n",
       "      <td>65.6</td>\n",
       "      <td>593.3</td>\n",
       "      <td>No</td>\n",
       "      <td>One year</td>\n",
       "      <td>Mailed check</td>\n",
       "      <td>DSL</td>\n",
       "    </tr>\n",
       "    <tr>\n",
       "      <th>1</th>\n",
       "      <td>1</td>\n",
       "      <td>2</td>\n",
       "      <td>1</td>\n",
       "      <td>0003-MKNFE</td>\n",
       "      <td>Male</td>\n",
       "      <td>0</td>\n",
       "      <td>No</td>\n",
       "      <td>No</td>\n",
       "      <td>9</td>\n",
       "      <td>Yes</td>\n",
       "      <td>...</td>\n",
       "      <td>No</td>\n",
       "      <td>No</td>\n",
       "      <td>Yes</td>\n",
       "      <td>No</td>\n",
       "      <td>59.9</td>\n",
       "      <td>542.4</td>\n",
       "      <td>No</td>\n",
       "      <td>Month-to-month</td>\n",
       "      <td>Mailed check</td>\n",
       "      <td>DSL</td>\n",
       "    </tr>\n",
       "    <tr>\n",
       "      <th>2</th>\n",
       "      <td>2</td>\n",
       "      <td>1</td>\n",
       "      <td>1</td>\n",
       "      <td>0004-TLHLJ</td>\n",
       "      <td>Male</td>\n",
       "      <td>0</td>\n",
       "      <td>No</td>\n",
       "      <td>No</td>\n",
       "      <td>4</td>\n",
       "      <td>Yes</td>\n",
       "      <td>...</td>\n",
       "      <td>No</td>\n",
       "      <td>No</td>\n",
       "      <td>No</td>\n",
       "      <td>Yes</td>\n",
       "      <td>73.9</td>\n",
       "      <td>280.85</td>\n",
       "      <td>Yes</td>\n",
       "      <td>Month-to-month</td>\n",
       "      <td>Electronic check</td>\n",
       "      <td>Fiber optic</td>\n",
       "    </tr>\n",
       "    <tr>\n",
       "      <th>3</th>\n",
       "      <td>2</td>\n",
       "      <td>1</td>\n",
       "      <td>1</td>\n",
       "      <td>0011-IGKFF</td>\n",
       "      <td>Male</td>\n",
       "      <td>1</td>\n",
       "      <td>Yes</td>\n",
       "      <td>No</td>\n",
       "      <td>13</td>\n",
       "      <td>Yes</td>\n",
       "      <td>...</td>\n",
       "      <td>No</td>\n",
       "      <td>Yes</td>\n",
       "      <td>Yes</td>\n",
       "      <td>Yes</td>\n",
       "      <td>98.0</td>\n",
       "      <td>1237.85</td>\n",
       "      <td>Yes</td>\n",
       "      <td>Month-to-month</td>\n",
       "      <td>Electronic check</td>\n",
       "      <td>Fiber optic</td>\n",
       "    </tr>\n",
       "    <tr>\n",
       "      <th>4</th>\n",
       "      <td>2</td>\n",
       "      <td>2</td>\n",
       "      <td>1</td>\n",
       "      <td>0013-EXCHZ</td>\n",
       "      <td>Female</td>\n",
       "      <td>1</td>\n",
       "      <td>Yes</td>\n",
       "      <td>No</td>\n",
       "      <td>3</td>\n",
       "      <td>Yes</td>\n",
       "      <td>...</td>\n",
       "      <td>Yes</td>\n",
       "      <td>Yes</td>\n",
       "      <td>No</td>\n",
       "      <td>Yes</td>\n",
       "      <td>83.9</td>\n",
       "      <td>267.4</td>\n",
       "      <td>Yes</td>\n",
       "      <td>Month-to-month</td>\n",
       "      <td>Mailed check</td>\n",
       "      <td>Fiber optic</td>\n",
       "    </tr>\n",
       "  </tbody>\n",
       "</table>\n",
       "<p>5 rows × 24 columns</p>\n",
       "</div>"
      ],
      "text/plain": [
       "   internet_service_type_id  payment_type_id  contract_type_id customer_id  \\\n",
       "0                         1                2                 2  0002-ORFBO   \n",
       "1                         1                2                 1  0003-MKNFE   \n",
       "2                         2                1                 1  0004-TLHLJ   \n",
       "3                         2                1                 1  0011-IGKFF   \n",
       "4                         2                2                 1  0013-EXCHZ   \n",
       "\n",
       "   gender  senior_citizen partner dependents  tenure phone_service  ...  \\\n",
       "0  Female               0     Yes        Yes       9           Yes  ...   \n",
       "1    Male               0      No         No       9           Yes  ...   \n",
       "2    Male               0      No         No       4           Yes  ...   \n",
       "3    Male               1     Yes         No      13           Yes  ...   \n",
       "4  Female               1     Yes         No       3           Yes  ...   \n",
       "\n",
       "  tech_support streaming_tv streaming_movies paperless_billing  \\\n",
       "0          Yes          Yes               No               Yes   \n",
       "1           No           No              Yes                No   \n",
       "2           No           No               No               Yes   \n",
       "3           No          Yes              Yes               Yes   \n",
       "4          Yes          Yes               No               Yes   \n",
       "\n",
       "  monthly_charges total_charges churn   contract_type      payment_type  \\\n",
       "0            65.6         593.3    No        One year      Mailed check   \n",
       "1            59.9         542.4    No  Month-to-month      Mailed check   \n",
       "2            73.9        280.85   Yes  Month-to-month  Electronic check   \n",
       "3            98.0       1237.85   Yes  Month-to-month  Electronic check   \n",
       "4            83.9         267.4   Yes  Month-to-month      Mailed check   \n",
       "\n",
       "  internet_service_type  \n",
       "0                   DSL  \n",
       "1                   DSL  \n",
       "2           Fiber optic  \n",
       "3           Fiber optic  \n",
       "4           Fiber optic  \n",
       "\n",
       "[5 rows x 24 columns]"
      ]
     },
     "execution_count": 47,
     "metadata": {},
     "output_type": "execute_result"
    }
   ],
   "source": [
    "#acquire data and do rudimentary exploration\n",
    "df = acquire.get_telco_data()\n",
    "df.head()"
   ]
  },
  {
   "cell_type": "code",
   "execution_count": 48,
   "metadata": {},
   "outputs": [],
   "source": [
    "customer_id = df[['customer_id']]"
   ]
  },
  {
   "cell_type": "code",
   "execution_count": 49,
   "metadata": {},
   "outputs": [],
   "source": [
    "# reassign with prep_telco output to prepare for data split\n",
    "df = prepare.prep_telco(df)\n",
    "df = prepare.final_prep(df)"
   ]
  },
  {
   "cell_type": "code",
   "execution_count": 50,
   "metadata": {},
   "outputs": [
    {
     "name": "stdout",
     "output_type": "stream",
     "text": [
      "<class 'pandas.core.frame.DataFrame'>\n",
      "Int64Index: 7032 entries, 0 to 7042\n",
      "Data columns (total 31 columns):\n",
      " #   Column                                 Non-Null Count  Dtype  \n",
      "---  ------                                 --------------  -----  \n",
      " 0   senior_citizen                         7032 non-null   int64  \n",
      " 1   tenure                                 7032 non-null   int64  \n",
      " 2   monthly_charges                        7032 non-null   float64\n",
      " 3   total_charges                          7032 non-null   float64\n",
      " 4   gender_encoded                         7032 non-null   int64  \n",
      " 5   partner_encoded                        7032 non-null   int64  \n",
      " 6   dependents_encoded                     7032 non-null   int64  \n",
      " 7   phone_service_encoded                  7032 non-null   int64  \n",
      " 8   paperless_billing_encoded              7032 non-null   int64  \n",
      " 9   churn_encoded                          7032 non-null   int64  \n",
      " 10  contract_type_One year                 7032 non-null   uint8  \n",
      " 11  contract_type_Two year                 7032 non-null   uint8  \n",
      " 12  payment_type_Credit card (automatic)   7032 non-null   uint8  \n",
      " 13  payment_type_Electronic check          7032 non-null   uint8  \n",
      " 14  payment_type_Mailed check              7032 non-null   uint8  \n",
      " 15  internet_service_type_Fiber optic      7032 non-null   uint8  \n",
      " 16  internet_service_type_None             7032 non-null   uint8  \n",
      " 17  multiple_lines_No phone service        7032 non-null   uint8  \n",
      " 18  multiple_lines_Yes                     7032 non-null   uint8  \n",
      " 19  online_security_No internet service    7032 non-null   uint8  \n",
      " 20  online_security_Yes                    7032 non-null   uint8  \n",
      " 21  online_backup_No internet service      7032 non-null   uint8  \n",
      " 22  online_backup_Yes                      7032 non-null   uint8  \n",
      " 23  device_protection_No internet service  7032 non-null   uint8  \n",
      " 24  device_protection_Yes                  7032 non-null   uint8  \n",
      " 25  tech_support_No internet service       7032 non-null   uint8  \n",
      " 26  tech_support_Yes                       7032 non-null   uint8  \n",
      " 27  streaming_tv_No internet service       7032 non-null   uint8  \n",
      " 28  streaming_tv_Yes                       7032 non-null   uint8  \n",
      " 29  streaming_movies_No internet service   7032 non-null   uint8  \n",
      " 30  streaming_movies_Yes                   7032 non-null   uint8  \n",
      "dtypes: float64(2), int64(8), uint8(21)\n",
      "memory usage: 748.5 KB\n"
     ]
    }
   ],
   "source": [
    "df.info()"
   ]
  },
  {
   "cell_type": "code",
   "execution_count": 51,
   "metadata": {},
   "outputs": [
    {
     "name": "stdout",
     "output_type": "stream",
     "text": [
      "Prepared df: (7032, 31)\n",
      "Train: (4218, 31)\n",
      "Validate: (1407, 31)\n",
      "Test: (1407, 31)\n"
     ]
    }
   ],
   "source": [
    "# split the data with target *churn*\n",
    "train, validate, test = prepare.split_data(df, 'churn_encoded')"
   ]
  },
  {
   "cell_type": "markdown",
   "metadata": {},
   "source": [
    "# Model\n",
    "Explore various models and feature combinations.\n",
    "Choose **three** models to validate. Choose **one** to test. \n",
    "Artifact: `model.py`"
   ]
  },
  {
   "cell_type": "markdown",
   "metadata": {},
   "source": [
    "### Modeling Preparation\n",
    "> Create Baseline prediction and accuracy\n",
    "* Place results in dataframe that features model description for addtion of later models --> `model_descriptions`\n",
    "> Create dataframe model evaluation metrics --> move to `model.py`\n",
    "* `comparision_chart`\n",
    "> Create functions to  --> move to `model.py`\n",
    "> update dataframes with each model in turn\n",
    "> create visualization of each model's accuracy"
   ]
  },
  {
   "cell_type": "markdown",
   "metadata": {},
   "source": [
    "### Baseline Prediction and Accuracy"
   ]
  },
  {
   "cell_type": "code",
   "execution_count": 52,
   "metadata": {},
   "outputs": [
    {
     "data": {
      "text/plain": [
       "0    0.734234\n",
       "1    0.265766\n",
       "Name: churn_encoded, dtype: float64"
      ]
     },
     "execution_count": 52,
     "metadata": {},
     "output_type": "execute_result"
    }
   ],
   "source": [
    "# formulate baseline prediction\n",
    "train.churn_encoded.value_counts(normalize=True)"
   ]
  },
  {
   "cell_type": "code",
   "execution_count": 53,
   "metadata": {},
   "outputs": [],
   "source": [
    "# split data into Big X, small y sets \n",
    "X_train = train.drop(columns=['churn_encoded'])\n",
    "y_train = train.churn_encoded\n",
    "X_train = prepare.final_prep(X_train)\n",
    "\n",
    "X_validate = validate.drop(columns=['churn_encoded'])\n",
    "y_validate = validate.churn_encoded\n",
    "X_validate = prepare.final_prep(X_validate)\n",
    "\n",
    "X_test = test.drop(columns=['churn_encoded'])\n",
    "y_test = test.churn_encoded\n",
    "X_test = prepare.final_prep(X_test)"
   ]
  },
  {
   "cell_type": "code",
   "execution_count": 54,
   "metadata": {},
   "outputs": [
    {
     "name": "stdout",
     "output_type": "stream",
     "text": [
      "Baseline Accuracy for \"no churn\" prediction on Telco dataset:  73.4%\n"
     ]
    }
   ],
   "source": [
    "# formulate baseline accuracy\n",
    "baseline_accuracy = (y_train == 0).mean()\n",
    "\n",
    "print(f'Baseline Accuracy for \\\"no churn\\\" prediction on Telco dataset: {(baseline_accuracy * 100): .3}%')"
   ]
  },
  {
   "cell_type": "code",
   "execution_count": 55,
   "metadata": {},
   "outputs": [],
   "source": [
    "model_descriptions = pd.DataFrame({'Model': 'Baseline', \\\n",
    "    'Accuracy(Score)': baseline_accuracy,\n",
    "    'Type': 'Basic Baseline',\n",
    "    'Features Used': 'Baseline Prediction',\n",
    "    }, index=[0])"
   ]
  },
  {
   "cell_type": "code",
   "execution_count": 56,
   "metadata": {},
   "outputs": [],
   "source": [
    "comparison_chart = model.create_comp_chart()"
   ]
  },
  {
   "cell_type": "markdown",
   "metadata": {},
   "source": [
    "## Models"
   ]
  },
  {
   "cell_type": "markdown",
   "metadata": {},
   "source": [
    "### Model A\n",
    "> Decision Tree\n",
    "* `max_depth` : 3\n",
    "* Features: monthly charges, tenure"
   ]
  },
  {
   "cell_type": "code",
   "execution_count": 57,
   "metadata": {},
   "outputs": [],
   "source": [
    "#create, fit, use, model information to model_features dfram\n",
    "\n",
    "model_a = DecisionTreeClassifier(max_depth=3, random_state=514)\n",
    "\n",
    "#features to be used\n",
    "a_features = ['monthly_charges', 'tenure']\n",
    "\n",
    "#fit model\n",
    "model_a.fit(X_train[a_features], y_train)\n",
    "\n",
    "# compute metrics for model a and assign to comparison dataframe\n",
    "comparison_chart['Model A'] = model.compute_metrics(model_a,\n",
    "                                                    X_train[a_features], y_train)\\\n",
    "                                                    .values\n",
    "\n",
    "#score model to add to model description dataframe\n",
    "score = model_a.score(X_train[a_features], y_train).round(3)\n",
    "\n",
    "# add model description to description dataframe\n",
    "model_descriptions.loc[1] = ['Model A', score, 'Decision Tree',\n",
    "                            'monthly charges, tenure']\n"
   ]
  },
  {
   "cell_type": "markdown",
   "metadata": {},
   "source": [
    "### Model B\n",
    "> Decision Tree \n",
    "* `max_depth` : 5\n",
    "* Features: All"
   ]
  },
  {
   "cell_type": "code",
   "execution_count": null,
   "metadata": {},
   "outputs": [],
   "source": []
  },
  {
   "cell_type": "code",
   "execution_count": 58,
   "metadata": {},
   "outputs": [],
   "source": [
    "#create model object with adjusted parameters\n",
    "model_b = DecisionTreeClassifier(max_depth=5, random_state=514)\n",
    "\n",
    "#fit model to train subset\n",
    "model_b = model_b.fit(X_train, y_train)\n",
    "\n",
    "# compute metrics for model a and assign to comparison dataframe\n",
    "comparison_chart['Model B'] = model.compute_metrics(model_b, X_train, y_train).values\n",
    "\n",
    "#score model to add to model description dataframe\n",
    "score = model_b.score(X_train, y_train).round(3)\n",
    "\n",
    "# add model description to description dataframe\n",
    "model_descriptions.loc[2] = ['Model B', score, 'Decision Tree', 'All']\n"
   ]
  },
  {
   "cell_type": "markdown",
   "metadata": {},
   "source": [
    "### Model C\n",
    "> Decision Tree \n",
    "* `max_depth` : 6\n",
    "* Features: `tenure, monthly_charges, contract_type_One year, contract_type_Two year` "
   ]
  },
  {
   "cell_type": "code",
   "execution_count": 59,
   "metadata": {},
   "outputs": [],
   "source": [
    "# create model object\n",
    "model_c = DecisionTreeClassifier(max_depth=6, random_state=514)\n",
    "\n",
    "# feature subset for models\n",
    "c_features = ['tenure', 'monthly_charges', 'contract_type_One year',           \n",
    "              'contract_type_Two year']\n",
    "\n",
    "# fit model\n",
    "model_c.fit(X_train[c_features], y_train)\n",
    "\n",
    "#score model to add to model description dataframe\n",
    "score = model_c.score(X_train[c_features], y_train).round(3)\n",
    "\n",
    "# compute metrics for model a and assign to comparison dataframe. make sure to put in same features as above\n",
    "comparison_chart['Model C'] = model.compute_metrics(model_c, X_train[c_features], y_train).values\n",
    "\n",
    "# add model description to description dataframe\n",
    "model_descriptions.loc[3] = ['Model C', score, 'Decision Tree(max_depth=6)', \n",
    "                            'tenure, monthly charges, contract type']\n"
   ]
  },
  {
   "cell_type": "markdown",
   "metadata": {},
   "source": [
    "### Model D\n",
    "> Random Forest\n",
    "* `max_depth` : 10\n",
    "* `min_samples_leaf: 1\n",
    "* Features: `all` "
   ]
  },
  {
   "cell_type": "code",
   "execution_count": 60,
   "metadata": {},
   "outputs": [],
   "source": [
    "#create, fit, use, model information to model_features dfram\n",
    "model_d = DecisionTreeClassifier(max_depth=10 ,min_samples_leaf=1, random_state=514)\n",
    "\n",
    "#fit model\n",
    "model_d.fit(X_train, y_train)\n",
    "\n",
    "#score model to add to model description dataframe\n",
    "score = model_d.score(X_train, y_train).round(3)\n",
    "\n",
    "# compute metrics for model a and assign to comparison dataframe. make sure to put in same features as above\n",
    "comparison_chart['Model D'] = model.compute_metrics(model_d, X_train, y_train)\\\n",
    "                                    .values\n",
    "\n",
    "# add model description to description dataframe\n",
    "model_descriptions.loc[4] = ['Model D', score, 'Random Forest)', 'all']"
   ]
  },
  {
   "cell_type": "markdown",
   "metadata": {},
   "source": [
    "### Model E\n",
    "> Random Forest\n",
    "* `max_depth` : 5\n",
    "* `min_samples_leaf: 5\n",
    "* Features: tenure, monthly charges, contract type"
   ]
  },
  {
   "cell_type": "code",
   "execution_count": 61,
   "metadata": {},
   "outputs": [],
   "source": [
    "#create, fit, use, model information to model_features dfram\n",
    "model_e = DecisionTreeClassifier(max_depth=10 ,min_samples_leaf=5, random_state=514)\n",
    "\n",
    "# feature subset for models\n",
    "e_features = ['tenure', 'monthly_charges', 'contract_type_One year', 'contract_type_Two year']\n",
    "\n",
    "# fit model\n",
    "model_e.fit(X_train[e_features], y_train)\n",
    "\n",
    "#score model to add to model description dataframe\n",
    "score = model_e.score(X_train[e_features], y_train).round(3)\n",
    "\n",
    "# compute metrics for model a and assign to comparison dataframe. make sure to put in same features as above\n",
    "comparison_chart['Model E'] = model.compute_metrics(model_e, X_train[e_features], y_train).values\n",
    "\n",
    "# add model description to description dataframe\n",
    "model_descriptions.loc[5] = ['Model E', score, 'Random Forest', 'tenure, monthly charges, contract type']"
   ]
  },
  {
   "cell_type": "markdown",
   "metadata": {},
   "source": [
    "### Model F\n",
    "> Random Forest\n",
    "* `max_depth` : 10\n",
    "* `min_samples_leaf: 2\n",
    "* Features: tenure, monthly charges, contract type, internet service type "
   ]
  },
  {
   "cell_type": "code",
   "execution_count": 62,
   "metadata": {},
   "outputs": [],
   "source": [
    "#create, fit, use, model information to model_features dfram\n",
    "model_f = DecisionTreeClassifier(max_depth=10 ,min_samples_leaf=2, random_state=514)\n",
    "\n",
    "#feature subset for models\n",
    "f_features = ['tenure', 'monthly_charges', 'contract_type_One year', 'contract_type_Two year', 'internet_service_type_Fiber optic']\n",
    "\n",
    "# fit model\n",
    "model_f.fit(X_train[f_features], y_train)\n",
    "\n",
    "#score model to add to model description dataframe\n",
    "score = model_f.score(X_train[f_features], y_train).round(3)\n",
    "\n",
    "# compute metrics for model a and assign to comparison dataframe. make sure to put in same features as above\n",
    "comparison_chart['Model F'] = model.compute_metrics(model_f, X_train[f_features], y_train).values\n",
    "\n",
    "# add model description to description dataframe\n",
    "model_descriptions.loc[6] = ['Model F', score, 'Random Forest)', 'tenure, monthly charges, contract type, internet service type']"
   ]
  },
  {
   "cell_type": "markdown",
   "metadata": {},
   "source": [
    "### Model G\n",
    "> KNN (K-Nearest Neighbors)\n",
    "* `n_neighbors`: 3\n",
    "* Features: `all` "
   ]
  },
  {
   "cell_type": "code",
   "execution_count": 63,
   "metadata": {},
   "outputs": [],
   "source": [
    "model_g = KNeighborsClassifier(n_neighbors=3)"
   ]
  },
  {
   "cell_type": "code",
   "execution_count": 64,
   "metadata": {},
   "outputs": [
    {
     "data": {
      "text/html": [
       "<style>#sk-container-id-2 {color: black;background-color: white;}#sk-container-id-2 pre{padding: 0;}#sk-container-id-2 div.sk-toggleable {background-color: white;}#sk-container-id-2 label.sk-toggleable__label {cursor: pointer;display: block;width: 100%;margin-bottom: 0;padding: 0.3em;box-sizing: border-box;text-align: center;}#sk-container-id-2 label.sk-toggleable__label-arrow:before {content: \"▸\";float: left;margin-right: 0.25em;color: #696969;}#sk-container-id-2 label.sk-toggleable__label-arrow:hover:before {color: black;}#sk-container-id-2 div.sk-estimator:hover label.sk-toggleable__label-arrow:before {color: black;}#sk-container-id-2 div.sk-toggleable__content {max-height: 0;max-width: 0;overflow: hidden;text-align: left;background-color: #f0f8ff;}#sk-container-id-2 div.sk-toggleable__content pre {margin: 0.2em;color: black;border-radius: 0.25em;background-color: #f0f8ff;}#sk-container-id-2 input.sk-toggleable__control:checked~div.sk-toggleable__content {max-height: 200px;max-width: 100%;overflow: auto;}#sk-container-id-2 input.sk-toggleable__control:checked~label.sk-toggleable__label-arrow:before {content: \"▾\";}#sk-container-id-2 div.sk-estimator input.sk-toggleable__control:checked~label.sk-toggleable__label {background-color: #d4ebff;}#sk-container-id-2 div.sk-label input.sk-toggleable__control:checked~label.sk-toggleable__label {background-color: #d4ebff;}#sk-container-id-2 input.sk-hidden--visually {border: 0;clip: rect(1px 1px 1px 1px);clip: rect(1px, 1px, 1px, 1px);height: 1px;margin: -1px;overflow: hidden;padding: 0;position: absolute;width: 1px;}#sk-container-id-2 div.sk-estimator {font-family: monospace;background-color: #f0f8ff;border: 1px dotted black;border-radius: 0.25em;box-sizing: border-box;margin-bottom: 0.5em;}#sk-container-id-2 div.sk-estimator:hover {background-color: #d4ebff;}#sk-container-id-2 div.sk-parallel-item::after {content: \"\";width: 100%;border-bottom: 1px solid gray;flex-grow: 1;}#sk-container-id-2 div.sk-label:hover label.sk-toggleable__label {background-color: #d4ebff;}#sk-container-id-2 div.sk-serial::before {content: \"\";position: absolute;border-left: 1px solid gray;box-sizing: border-box;top: 0;bottom: 0;left: 50%;z-index: 0;}#sk-container-id-2 div.sk-serial {display: flex;flex-direction: column;align-items: center;background-color: white;padding-right: 0.2em;padding-left: 0.2em;position: relative;}#sk-container-id-2 div.sk-item {position: relative;z-index: 1;}#sk-container-id-2 div.sk-parallel {display: flex;align-items: stretch;justify-content: center;background-color: white;position: relative;}#sk-container-id-2 div.sk-item::before, #sk-container-id-2 div.sk-parallel-item::before {content: \"\";position: absolute;border-left: 1px solid gray;box-sizing: border-box;top: 0;bottom: 0;left: 50%;z-index: -1;}#sk-container-id-2 div.sk-parallel-item {display: flex;flex-direction: column;z-index: 1;position: relative;background-color: white;}#sk-container-id-2 div.sk-parallel-item:first-child::after {align-self: flex-end;width: 50%;}#sk-container-id-2 div.sk-parallel-item:last-child::after {align-self: flex-start;width: 50%;}#sk-container-id-2 div.sk-parallel-item:only-child::after {width: 0;}#sk-container-id-2 div.sk-dashed-wrapped {border: 1px dashed gray;margin: 0 0.4em 0.5em 0.4em;box-sizing: border-box;padding-bottom: 0.4em;background-color: white;}#sk-container-id-2 div.sk-label label {font-family: monospace;font-weight: bold;display: inline-block;line-height: 1.2em;}#sk-container-id-2 div.sk-label-container {text-align: center;}#sk-container-id-2 div.sk-container {/* jupyter's `normalize.less` sets `[hidden] { display: none; }` but bootstrap.min.css set `[hidden] { display: none !important; }` so we also need the `!important` here to be able to override the default hidden behavior on the sphinx rendered scikit-learn.org. See: https://github.com/scikit-learn/scikit-learn/issues/21755 */display: inline-block !important;position: relative;}#sk-container-id-2 div.sk-text-repr-fallback {display: none;}</style><div id=\"sk-container-id-2\" class=\"sk-top-container\"><div class=\"sk-text-repr-fallback\"><pre>KNeighborsClassifier(n_neighbors=3)</pre><b>In a Jupyter environment, please rerun this cell to show the HTML representation or trust the notebook. <br />On GitHub, the HTML representation is unable to render, please try loading this page with nbviewer.org.</b></div><div class=\"sk-container\" hidden><div class=\"sk-item\"><div class=\"sk-estimator sk-toggleable\"><input class=\"sk-toggleable__control sk-hidden--visually\" id=\"sk-estimator-id-2\" type=\"checkbox\" checked><label for=\"sk-estimator-id-2\" class=\"sk-toggleable__label sk-toggleable__label-arrow\">KNeighborsClassifier</label><div class=\"sk-toggleable__content\"><pre>KNeighborsClassifier(n_neighbors=3)</pre></div></div></div></div></div>"
      ],
      "text/plain": [
       "KNeighborsClassifier(n_neighbors=3)"
      ]
     },
     "execution_count": 64,
     "metadata": {},
     "output_type": "execute_result"
    }
   ],
   "source": [
    "model_g.fit(X_train, y_train)"
   ]
  },
  {
   "cell_type": "code",
   "execution_count": 65,
   "metadata": {},
   "outputs": [],
   "source": [
    "score = model_g.score(X_train, y_train).round(3)"
   ]
  },
  {
   "cell_type": "code",
   "execution_count": 66,
   "metadata": {},
   "outputs": [],
   "source": [
    "#create, fit, use, model information to model_features dfram\n",
    "model_g = KNeighborsClassifier(n_neighbors=3)\n",
    "\n",
    "# fit model\n",
    "model_g.fit(X_train, y_train)\n",
    "\n",
    "#score model to add to model description dataframe\n",
    "score = model_g.score(X_train, y_train).round(3)\n",
    "\n",
    "# compute metrics for model a and assign to comparison dataframe. make sure to put in same features as above\n",
    "comparison_chart['Model G'] = model.compute_metrics(model_g, X_train, y_train)\\\n",
    "                                    .values\n",
    "\n",
    "# add model description to description dataframe\n",
    "model_descriptions.loc[7] = ['Model G', score, 'Random Forest', 'all']"
   ]
  },
  {
   "cell_type": "markdown",
   "metadata": {},
   "source": [
    "### Model H\n",
    "> KNN (K-Nearest Neighbors)\n",
    "* `n_neighbors`: 3\n",
    "* Features: tenure, monthly charges"
   ]
  },
  {
   "cell_type": "code",
   "execution_count": 67,
   "metadata": {},
   "outputs": [],
   "source": [
    "#create, fit, use, model information to model_features dfram\n",
    "model_h = KNeighborsClassifier(n_neighbors=3)\n",
    "\n",
    "#feature subset for models\n",
    "h_features = ['tenure', 'monthly_charges']\n",
    "\n",
    "# fit model\n",
    "model_h.fit(X_train[h_features], y_train)\n",
    "\n",
    "#score model to add to model description dataframe\n",
    "score = model_h.score(X_train[h_features], y_train).round(3)\n",
    "\n",
    "# compute metrics for model a and assign to comparison dataframe. make sure to put in same features as above\n",
    "comparison_chart['Model H'] = model.compute_metrics(model_h, X_train[h_features], y_train).values\n",
    "\n",
    "# add model description to description dataframe\n",
    "model_descriptions.loc[8] = ['Model h', score, 'Random Forest)', 'tenure, monthly charges']"
   ]
  },
  {
   "cell_type": "markdown",
   "metadata": {},
   "source": [
    "### Model I\n",
    "> Random Forest\n",
    "* `n_neighbors`: 3\n",
    "* Features: `tenure, monthly charges, internet service type` "
   ]
  },
  {
   "cell_type": "code",
   "execution_count": 68,
   "metadata": {},
   "outputs": [],
   "source": [
    "#create, fit, use, model information to model_features dfram\n",
    "model_i = KNeighborsClassifier(n_neighbors=3)\n",
    "\n",
    "#feature subset for models\n",
    "i_features = ['tenure', 'monthly_charges', 'internet_service_type_Fiber optic']\n",
    "\n",
    "# fit model\n",
    "model_i.fit(X_train[i_features], y_train)\n",
    "\n",
    "#score model to add to model description dataframe\n",
    "score = model_i.score(X_train[i_features], y_train).round(3)\n",
    "\n",
    "# compute metrics for model a and assign to comparison dataframe. make sure to put in same features as above\n",
    "comparison_chart['Model I'] = model.compute_metrics(model_i, X_train[i_features], y_train).values\n",
    "\n",
    "# add model description to description dataframe\n",
    "model_descriptions.loc[9] = ['Model I', score, 'Random Forest)', 'tenure, monthly charges, internet service type']"
   ]
  },
  {
   "cell_type": "code",
   "execution_count": 69,
   "metadata": {},
   "outputs": [
    {
     "data": {
      "image/png": "[encoded data removed]",
      "text/plain": [
       "<Figure size 640x480 with 1 Axes>"
      ]
     },
     "metadata": {},
     "output_type": "display_data"
    },
    {
     "data": {
      "text/plain": [
       "0.8256344987646926"
      ]
     },
     "execution_count": 69,
     "metadata": {},
     "output_type": "execute_result"
    }
   ],
   "source": [
    "k_range = range(1, 20)\n",
    "scores = []\n",
    "for k in k_range:\n",
    "    knn = KNeighborsClassifier(n_neighbors = k)\n",
    "    knn.fit(X_train, y_train)\n",
    "    scores.append(knn.score(X_train, y_train))\n",
    "plt.figure()\n",
    "plt.xlabel('k')\n",
    "plt.ylabel('accuracy')\n",
    "plt.scatter(k_range, scores)\n",
    "plt.xticks([0,5,10,15,20])\n",
    "plt.show()\n",
    "np.mean(scores)"
   ]
  },
  {
   "cell_type": "code",
   "execution_count": 70,
   "metadata": {},
   "outputs": [
    {
     "data": {
      "image/png": "[encoded data removed]",
      "text/plain": [
       "<Figure size 640x480 with 1 Axes>"
      ]
     },
     "metadata": {},
     "output_type": "display_data"
    },
    {
     "data": {
      "text/plain": [
       "0.8290159966060243"
      ]
     },
     "execution_count": 70,
     "metadata": {},
     "output_type": "execute_result"
    }
   ],
   "source": [
    "k_range = range(1, 20)\n",
    "scores = []\n",
    "for k in k_range:\n",
    "    knn = KNeighborsClassifier(n_neighbors = k)\n",
    "    knn.fit(X_train[c_features], y_train)\n",
    "    scores.append(knn.score(X_train[c_features], y_train))\n",
    "plt.figure()\n",
    "plt.xlabel('k')\n",
    "plt.ylabel('accuracy')\n",
    "plt.scatter(k_range, scores)\n",
    "plt.xticks([0,5,10,15,20])\n",
    "plt.show()\n",
    "np.mean(scores)"
   ]
  },
  {
   "cell_type": "code",
   "execution_count": 71,
   "metadata": {},
   "outputs": [
    {
     "data": {
      "image/png": "[encoded data removed]",
      "text/plain": [
       "<Figure size 640x480 with 1 Axes>"
      ]
     },
     "metadata": {},
     "output_type": "display_data"
    },
    {
     "data": {
      "text/plain": [
       "0.8288163509770158"
      ]
     },
     "execution_count": 71,
     "metadata": {},
     "output_type": "execute_result"
    }
   ],
   "source": [
    "k_range = range(1, 20)\n",
    "scores = []\n",
    "for k in k_range:\n",
    "    knn = KNeighborsClassifier(n_neighbors = k)\n",
    "    knn.fit(X_train[['tenure', 'monthly_charges', 'internet_service_type_Fiber optic']], y_train)\n",
    "    scores.append(knn.score(X_train[['tenure', 'monthly_charges', 'internet_service_type_Fiber optic']], y_train))\n",
    "plt.figure()\n",
    "plt.xlabel('k')\n",
    "plt.ylabel('accuracy')\n",
    "plt.scatter(k_range, scores)\n",
    "plt.xticks([0,5,10,15,20])\n",
    "plt.show()\n",
    "np.mean(scores)"
   ]
  },
  {
   "cell_type": "markdown",
   "metadata": {},
   "source": [
    "### Model J\n",
    "> Logistic Regression\n",
    "* Parameters: default\n",
    "* Features: all"
   ]
  },
  {
   "cell_type": "code",
   "execution_count": 72,
   "metadata": {},
   "outputs": [],
   "source": [
    "#create, fit, use, model information to model_features dfram\n",
    "model_j = LogisticRegression(random_state=514)\n",
    "\n",
    "#feature subset for models\n",
    "j_features = X_train.columns\n",
    "\n",
    "#fit model\n",
    "model_j.fit(X_train[j_features], y_train)\n",
    "\n",
    "#score model to add to model description dataframe\n",
    "score = model_j.score(X_train[j_features], y_train).round(3)\n",
    "\n",
    "# compute metrics for model a and assign to comparison dataframe. make sure to put in same features as above\n",
    "comparison_chart['Model J'] = model.compute_metrics(model_j, X_train[j_features], y_train).values\n",
    "\n",
    "# add model description to description dataframe\n",
    "model_descriptions.loc[10] = ['Model J', score, 'Logistic Regression', 'all']"
   ]
  },
  {
   "cell_type": "markdown",
   "metadata": {},
   "source": [
    "### Model K\n",
    "> Logistic Regression\n",
    "* Parameters: `C=.1`\n",
    "* Features: all"
   ]
  },
  {
   "cell_type": "code",
   "execution_count": 73,
   "metadata": {},
   "outputs": [],
   "source": [
    "#create, fit, use, model information to model_features dfram\n",
    "model_k = LogisticRegression(C=.1, random_state=514)\n",
    "\n",
    "#feature subset for models\n",
    "k_features = ['tenure', 'monthly_charges', 'internet_service_type_Fiber optic', 'internet_service_type_None']\n",
    "\n",
    "#fit model\n",
    "model_k.fit(X_train[k_features], y_train)\n",
    "\n",
    "#score model to add to model description dataframe\n",
    "score = model_k.score(X_train[k_features], y_train).round(3)\n",
    "\n",
    "# compute metrics for model a and assign to comparison dataframe. make sure to put in same features as above\n",
    "comparison_chart['Model K'] = model.compute_metrics(model_k, X_train[k_features], y_train).values\n",
    "\n",
    "# add model description to description dataframe\n",
    "model_descriptions.loc[11] = ['Model K', score, 'Logistic Regression', 'tenure, monthly charges, internet service type']"
   ]
  },
  {
   "cell_type": "markdown",
   "metadata": {},
   "source": [
    "### Model L\n",
    "> Logistic Regression\n",
    "* Parameters: `C=.5`\n",
    "* Features: all"
   ]
  },
  {
   "cell_type": "code",
   "execution_count": 74,
   "metadata": {},
   "outputs": [],
   "source": [
    "#create, fit, use, model information to model_features dfram\n",
    "model_l = LogisticRegression(C=.5, random_state=514)\n",
    "\n",
    "#feature subset for models\n",
    "l_features = ['tenure', 'monthly_charges', 'internet_service_type_Fiber optic', 'internet_service_type_None']\n",
    "\n",
    "#fit model\n",
    "model_l.fit(X_train[l_features], y_train)\n",
    "\n",
    "# score model to add to model description dataframe\n",
    "score = model_l.score(X_train[l_features], y_train).round(3)\n",
    "\n",
    "# compute metrics for model a and assign to comparison dataframe. make sure to put in same features as above\n",
    "comparison_chart['Model L'] = model.compute_metrics(model_l, X_train[l_features], y_train).values\n",
    "\n",
    "# add model description to description dataframe\n",
    "model_descriptions.loc[12] = ['Model L', score, 'Logistic Regression', 'tenure, monthly charges, internet service type']\n",
    "\n"
   ]
  },
  {
   "cell_type": "markdown",
   "metadata": {},
   "source": [
    "## Model Description and Comparison Charts\n"
   ]
  },
  {
   "cell_type": "code",
   "execution_count": 75,
   "metadata": {},
   "outputs": [
    {
     "data": {
      "text/html": [
       "<div>\n",
       "<style scoped>\n",
       "    .dataframe tbody tr th:only-of-type {\n",
       "        vertical-align: middle;\n",
       "    }\n",
       "\n",
       "    .dataframe tbody tr th {\n",
       "        vertical-align: top;\n",
       "    }\n",
       "\n",
       "    .dataframe thead th {\n",
       "        text-align: right;\n",
       "    }\n",
       "</style>\n",
       "<table border=\"1\" class=\"dataframe\">\n",
       "  <thead>\n",
       "    <tr style=\"text-align: right;\">\n",
       "      <th></th>\n",
       "      <th>Model</th>\n",
       "      <th>Accuracy(Score)</th>\n",
       "      <th>Type</th>\n",
       "      <th>Features Used</th>\n",
       "    </tr>\n",
       "  </thead>\n",
       "  <tbody>\n",
       "    <tr>\n",
       "      <th>0</th>\n",
       "      <td>Baseline</td>\n",
       "      <td>0.734234</td>\n",
       "      <td>Basic Baseline</td>\n",
       "      <td>Baseline Prediction</td>\n",
       "    </tr>\n",
       "    <tr>\n",
       "      <th>1</th>\n",
       "      <td>Model A</td>\n",
       "      <td>0.787000</td>\n",
       "      <td>Decision Tree</td>\n",
       "      <td>monthly charges, tenure</td>\n",
       "    </tr>\n",
       "    <tr>\n",
       "      <th>2</th>\n",
       "      <td>Model B</td>\n",
       "      <td>0.815000</td>\n",
       "      <td>Decision Tree</td>\n",
       "      <td>All</td>\n",
       "    </tr>\n",
       "    <tr>\n",
       "      <th>3</th>\n",
       "      <td>Model C</td>\n",
       "      <td>0.807000</td>\n",
       "      <td>Decision Tree(max_depth=6)</td>\n",
       "      <td>tenure, monthly charges, contract type</td>\n",
       "    </tr>\n",
       "    <tr>\n",
       "      <th>4</th>\n",
       "      <td>Model D</td>\n",
       "      <td>0.894000</td>\n",
       "      <td>Random Forest)</td>\n",
       "      <td>all</td>\n",
       "    </tr>\n",
       "    <tr>\n",
       "      <th>5</th>\n",
       "      <td>Model E</td>\n",
       "      <td>0.836000</td>\n",
       "      <td>Random Forest</td>\n",
       "      <td>tenure, monthly charges, contract type</td>\n",
       "    </tr>\n",
       "    <tr>\n",
       "      <th>6</th>\n",
       "      <td>Model F</td>\n",
       "      <td>0.845000</td>\n",
       "      <td>Random Forest)</td>\n",
       "      <td>tenure, monthly charges, contract type, intern...</td>\n",
       "    </tr>\n",
       "    <tr>\n",
       "      <th>7</th>\n",
       "      <td>Model G</td>\n",
       "      <td>0.858000</td>\n",
       "      <td>Random Forest</td>\n",
       "      <td>all</td>\n",
       "    </tr>\n",
       "    <tr>\n",
       "      <th>8</th>\n",
       "      <td>Model h</td>\n",
       "      <td>0.860000</td>\n",
       "      <td>Random Forest)</td>\n",
       "      <td>tenure, monthly charges</td>\n",
       "    </tr>\n",
       "    <tr>\n",
       "      <th>9</th>\n",
       "      <td>Model I</td>\n",
       "      <td>0.861000</td>\n",
       "      <td>Random Forest)</td>\n",
       "      <td>tenure, monthly charges, internet service type</td>\n",
       "    </tr>\n",
       "    <tr>\n",
       "      <th>10</th>\n",
       "      <td>Model J</td>\n",
       "      <td>0.810000</td>\n",
       "      <td>Logistic Regression</td>\n",
       "      <td>all</td>\n",
       "    </tr>\n",
       "    <tr>\n",
       "      <th>11</th>\n",
       "      <td>Model K</td>\n",
       "      <td>0.793000</td>\n",
       "      <td>Logistic Regression</td>\n",
       "      <td>tenure, monthly charges, internet service type</td>\n",
       "    </tr>\n",
       "    <tr>\n",
       "      <th>12</th>\n",
       "      <td>Model L</td>\n",
       "      <td>0.791000</td>\n",
       "      <td>Logistic Regression</td>\n",
       "      <td>tenure, monthly charges, internet service type</td>\n",
       "    </tr>\n",
       "  </tbody>\n",
       "</table>\n",
       "</div>"
      ],
      "text/plain": [
       "       Model  Accuracy(Score)                        Type  \\\n",
       "0   Baseline         0.734234              Basic Baseline   \n",
       "1    Model A         0.787000               Decision Tree   \n",
       "2    Model B         0.815000               Decision Tree   \n",
       "3    Model C         0.807000  Decision Tree(max_depth=6)   \n",
       "4    Model D         0.894000              Random Forest)   \n",
       "5    Model E         0.836000               Random Forest   \n",
       "6    Model F         0.845000              Random Forest)   \n",
       "7    Model G         0.858000               Random Forest   \n",
       "8    Model h         0.860000              Random Forest)   \n",
       "9    Model I         0.861000              Random Forest)   \n",
       "10   Model J         0.810000         Logistic Regression   \n",
       "11   Model K         0.793000         Logistic Regression   \n",
       "12   Model L         0.791000         Logistic Regression   \n",
       "\n",
       "                                        Features Used  \n",
       "0                                 Baseline Prediction  \n",
       "1                             monthly charges, tenure  \n",
       "2                                                 All  \n",
       "3              tenure, monthly charges, contract type  \n",
       "4                                                 all  \n",
       "5              tenure, monthly charges, contract type  \n",
       "6   tenure, monthly charges, contract type, intern...  \n",
       "7                                                 all  \n",
       "8                             tenure, monthly charges  \n",
       "9      tenure, monthly charges, internet service type  \n",
       "10                                                all  \n",
       "11     tenure, monthly charges, internet service type  \n",
       "12     tenure, monthly charges, internet service type  "
      ]
     },
     "execution_count": 75,
     "metadata": {},
     "output_type": "execute_result"
    }
   ],
   "source": [
    "#model descriptions\n",
    "model_descriptions"
   ]
  },
  {
   "cell_type": "code",
   "execution_count": 76,
   "metadata": {},
   "outputs": [
    {
     "data": {
      "text/html": [
       "<div>\n",
       "<style scoped>\n",
       "    .dataframe tbody tr th:only-of-type {\n",
       "        vertical-align: middle;\n",
       "    }\n",
       "\n",
       "    .dataframe tbody tr th {\n",
       "        vertical-align: top;\n",
       "    }\n",
       "\n",
       "    .dataframe thead th {\n",
       "        text-align: right;\n",
       "    }\n",
       "</style>\n",
       "<table border=\"1\" class=\"dataframe\">\n",
       "  <thead>\n",
       "    <tr style=\"text-align: right;\">\n",
       "      <th></th>\n",
       "      <th>Model A</th>\n",
       "      <th>Model B</th>\n",
       "      <th>Model C</th>\n",
       "      <th>Model D</th>\n",
       "      <th>Model E</th>\n",
       "      <th>Model F</th>\n",
       "      <th>Model G</th>\n",
       "      <th>Model H</th>\n",
       "      <th>Model I</th>\n",
       "      <th>Model J</th>\n",
       "      <th>Model K</th>\n",
       "      <th>Model L</th>\n",
       "    </tr>\n",
       "  </thead>\n",
       "  <tbody>\n",
       "    <tr>\n",
       "      <th>Accuracy/Score</th>\n",
       "      <td>0.79</td>\n",
       "      <td>0.82</td>\n",
       "      <td>0.81</td>\n",
       "      <td>0.89</td>\n",
       "      <td>0.84</td>\n",
       "      <td>0.85</td>\n",
       "      <td>0.86</td>\n",
       "      <td>0.86</td>\n",
       "      <td>0.86</td>\n",
       "      <td>0.81</td>\n",
       "      <td>0.79</td>\n",
       "      <td>0.79</td>\n",
       "    </tr>\n",
       "    <tr>\n",
       "      <th>True Positives</th>\n",
       "      <td>458.00</td>\n",
       "      <td>659.00</td>\n",
       "      <td>582.00</td>\n",
       "      <td>917.00</td>\n",
       "      <td>686.00</td>\n",
       "      <td>696.00</td>\n",
       "      <td>744.00</td>\n",
       "      <td>734.00</td>\n",
       "      <td>742.00</td>\n",
       "      <td>632.00</td>\n",
       "      <td>526.00</td>\n",
       "      <td>523.00</td>\n",
       "    </tr>\n",
       "    <tr>\n",
       "      <th>False Postives</th>\n",
       "      <td>234.00</td>\n",
       "      <td>317.00</td>\n",
       "      <td>276.00</td>\n",
       "      <td>244.00</td>\n",
       "      <td>257.00</td>\n",
       "      <td>228.00</td>\n",
       "      <td>222.00</td>\n",
       "      <td>204.00</td>\n",
       "      <td>206.00</td>\n",
       "      <td>313.00</td>\n",
       "      <td>277.00</td>\n",
       "      <td>285.00</td>\n",
       "    </tr>\n",
       "    <tr>\n",
       "      <th>True Negatives</th>\n",
       "      <td>2863.00</td>\n",
       "      <td>2780.00</td>\n",
       "      <td>2821.00</td>\n",
       "      <td>2853.00</td>\n",
       "      <td>2840.00</td>\n",
       "      <td>2869.00</td>\n",
       "      <td>2875.00</td>\n",
       "      <td>2893.00</td>\n",
       "      <td>2891.00</td>\n",
       "      <td>2784.00</td>\n",
       "      <td>2820.00</td>\n",
       "      <td>2812.00</td>\n",
       "    </tr>\n",
       "    <tr>\n",
       "      <th>False Negatives</th>\n",
       "      <td>663.00</td>\n",
       "      <td>462.00</td>\n",
       "      <td>539.00</td>\n",
       "      <td>204.00</td>\n",
       "      <td>435.00</td>\n",
       "      <td>425.00</td>\n",
       "      <td>377.00</td>\n",
       "      <td>387.00</td>\n",
       "      <td>379.00</td>\n",
       "      <td>489.00</td>\n",
       "      <td>595.00</td>\n",
       "      <td>598.00</td>\n",
       "    </tr>\n",
       "    <tr>\n",
       "      <th>TPR/Recall</th>\n",
       "      <td>0.41</td>\n",
       "      <td>0.59</td>\n",
       "      <td>0.52</td>\n",
       "      <td>0.82</td>\n",
       "      <td>0.61</td>\n",
       "      <td>0.62</td>\n",
       "      <td>0.66</td>\n",
       "      <td>0.65</td>\n",
       "      <td>0.66</td>\n",
       "      <td>0.56</td>\n",
       "      <td>0.47</td>\n",
       "      <td>0.47</td>\n",
       "    </tr>\n",
       "    <tr>\n",
       "      <th>False Positive Rate</th>\n",
       "      <td>0.08</td>\n",
       "      <td>0.10</td>\n",
       "      <td>0.09</td>\n",
       "      <td>0.08</td>\n",
       "      <td>0.08</td>\n",
       "      <td>0.07</td>\n",
       "      <td>0.07</td>\n",
       "      <td>0.07</td>\n",
       "      <td>0.07</td>\n",
       "      <td>0.10</td>\n",
       "      <td>0.09</td>\n",
       "      <td>0.09</td>\n",
       "    </tr>\n",
       "    <tr>\n",
       "      <th>True Negative Rate</th>\n",
       "      <td>0.92</td>\n",
       "      <td>0.90</td>\n",
       "      <td>0.91</td>\n",
       "      <td>0.92</td>\n",
       "      <td>0.92</td>\n",
       "      <td>0.93</td>\n",
       "      <td>0.93</td>\n",
       "      <td>0.93</td>\n",
       "      <td>0.93</td>\n",
       "      <td>0.90</td>\n",
       "      <td>0.91</td>\n",
       "      <td>0.91</td>\n",
       "    </tr>\n",
       "    <tr>\n",
       "      <th>False Negative Rate</th>\n",
       "      <td>0.59</td>\n",
       "      <td>0.41</td>\n",
       "      <td>0.48</td>\n",
       "      <td>0.18</td>\n",
       "      <td>0.39</td>\n",
       "      <td>0.38</td>\n",
       "      <td>0.34</td>\n",
       "      <td>0.35</td>\n",
       "      <td>0.34</td>\n",
       "      <td>0.44</td>\n",
       "      <td>0.53</td>\n",
       "      <td>0.53</td>\n",
       "    </tr>\n",
       "    <tr>\n",
       "      <th>Precision</th>\n",
       "      <td>0.66</td>\n",
       "      <td>0.68</td>\n",
       "      <td>0.68</td>\n",
       "      <td>0.79</td>\n",
       "      <td>0.73</td>\n",
       "      <td>0.75</td>\n",
       "      <td>0.77</td>\n",
       "      <td>0.78</td>\n",
       "      <td>0.78</td>\n",
       "      <td>0.67</td>\n",
       "      <td>0.66</td>\n",
       "      <td>0.65</td>\n",
       "    </tr>\n",
       "    <tr>\n",
       "      <th>F1-Score</th>\n",
       "      <td>0.51</td>\n",
       "      <td>0.63</td>\n",
       "      <td>0.59</td>\n",
       "      <td>0.80</td>\n",
       "      <td>0.66</td>\n",
       "      <td>0.68</td>\n",
       "      <td>0.71</td>\n",
       "      <td>0.71</td>\n",
       "      <td>0.72</td>\n",
       "      <td>0.61</td>\n",
       "      <td>0.55</td>\n",
       "      <td>0.54</td>\n",
       "    </tr>\n",
       "    <tr>\n",
       "      <th>Support Positive</th>\n",
       "      <td>1121.00</td>\n",
       "      <td>1121.00</td>\n",
       "      <td>1121.00</td>\n",
       "      <td>1121.00</td>\n",
       "      <td>1121.00</td>\n",
       "      <td>1121.00</td>\n",
       "      <td>1121.00</td>\n",
       "      <td>1121.00</td>\n",
       "      <td>1121.00</td>\n",
       "      <td>1121.00</td>\n",
       "      <td>1121.00</td>\n",
       "      <td>1121.00</td>\n",
       "    </tr>\n",
       "    <tr>\n",
       "      <th>Support Negative</th>\n",
       "      <td>3097.00</td>\n",
       "      <td>3097.00</td>\n",
       "      <td>3097.00</td>\n",
       "      <td>3097.00</td>\n",
       "      <td>3097.00</td>\n",
       "      <td>3097.00</td>\n",
       "      <td>3097.00</td>\n",
       "      <td>3097.00</td>\n",
       "      <td>3097.00</td>\n",
       "      <td>3097.00</td>\n",
       "      <td>3097.00</td>\n",
       "      <td>3097.00</td>\n",
       "    </tr>\n",
       "  </tbody>\n",
       "</table>\n",
       "</div>"
      ],
      "text/plain": [
       "                     Model A  Model B  Model C  Model D  Model E  Model F  \\\n",
       "Accuracy/Score          0.79     0.82     0.81     0.89     0.84     0.85   \n",
       "True Positives        458.00   659.00   582.00   917.00   686.00   696.00   \n",
       "False Postives        234.00   317.00   276.00   244.00   257.00   228.00   \n",
       "True Negatives       2863.00  2780.00  2821.00  2853.00  2840.00  2869.00   \n",
       "False Negatives       663.00   462.00   539.00   204.00   435.00   425.00   \n",
       "TPR/Recall              0.41     0.59     0.52     0.82     0.61     0.62   \n",
       "False Positive Rate     0.08     0.10     0.09     0.08     0.08     0.07   \n",
       "True Negative Rate      0.92     0.90     0.91     0.92     0.92     0.93   \n",
       "False Negative Rate     0.59     0.41     0.48     0.18     0.39     0.38   \n",
       "Precision               0.66     0.68     0.68     0.79     0.73     0.75   \n",
       "F1-Score                0.51     0.63     0.59     0.80     0.66     0.68   \n",
       "Support Positive     1121.00  1121.00  1121.00  1121.00  1121.00  1121.00   \n",
       "Support Negative     3097.00  3097.00  3097.00  3097.00  3097.00  3097.00   \n",
       "\n",
       "                     Model G  Model H  Model I  Model J  Model K  Model L  \n",
       "Accuracy/Score          0.86     0.86     0.86     0.81     0.79     0.79  \n",
       "True Positives        744.00   734.00   742.00   632.00   526.00   523.00  \n",
       "False Postives        222.00   204.00   206.00   313.00   277.00   285.00  \n",
       "True Negatives       2875.00  2893.00  2891.00  2784.00  2820.00  2812.00  \n",
       "False Negatives       377.00   387.00   379.00   489.00   595.00   598.00  \n",
       "TPR/Recall              0.66     0.65     0.66     0.56     0.47     0.47  \n",
       "False Positive Rate     0.07     0.07     0.07     0.10     0.09     0.09  \n",
       "True Negative Rate      0.93     0.93     0.93     0.90     0.91     0.91  \n",
       "False Negative Rate     0.34     0.35     0.34     0.44     0.53     0.53  \n",
       "Precision               0.77     0.78     0.78     0.67     0.66     0.65  \n",
       "F1-Score                0.71     0.71     0.72     0.61     0.55     0.54  \n",
       "Support Positive     1121.00  1121.00  1121.00  1121.00  1121.00  1121.00  \n",
       "Support Negative     3097.00  3097.00  3097.00  3097.00  3097.00  3097.00  "
      ]
     },
     "execution_count": 76,
     "metadata": {},
     "output_type": "execute_result"
    }
   ],
   "source": [
    "# model comparison chart\n",
    "comparison_chart\n"
   ]
  },
  {
   "cell_type": "markdown",
   "metadata": {},
   "source": [
    "## Model Creation Takeaways\n",
    "* The Decision Tree and Logistic Regression models did not perform well \n",
    "* Best Models are D, G, I "
   ]
  },
  {
   "cell_type": "markdown",
   "metadata": {},
   "source": [
    "## Model Validation"
   ]
  },
  {
   "cell_type": "code",
   "execution_count": 77,
   "metadata": {},
   "outputs": [],
   "source": [
    "#create validation chart for comparison\n",
    "validate_comparison = model.create_comp_chart()\n",
    "\n",
    "#create feature lists if needed \n",
    "model_i_features = ['tenure', 'monthly_charges', 'internet_service_type_Fiber optic']\n",
    "\n",
    "#add metrics to validate comparison dataframe\n",
    "validate_comparison['Model D'] = model.compute_metrics(model_d, X_validate, y_validate).values\n",
    "validate_comparison['Model G'] = model.compute_metrics(model_g, X_validate, y_validate).values\n",
    "validate_comparison['Model I'] = model.compute_metrics(model_i, X_validate[model_i_features], y_validate).values\n"
   ]
  },
  {
   "cell_type": "code",
   "execution_count": 78,
   "metadata": {},
   "outputs": [
    {
     "data": {
      "text/html": [
       "<div>\n",
       "<style scoped>\n",
       "    .dataframe tbody tr th:only-of-type {\n",
       "        vertical-align: middle;\n",
       "    }\n",
       "\n",
       "    .dataframe tbody tr th {\n",
       "        vertical-align: top;\n",
       "    }\n",
       "\n",
       "    .dataframe thead th {\n",
       "        text-align: right;\n",
       "    }\n",
       "</style>\n",
       "<table border=\"1\" class=\"dataframe\">\n",
       "  <thead>\n",
       "    <tr style=\"text-align: right;\">\n",
       "      <th></th>\n",
       "      <th>Model D</th>\n",
       "      <th>Model G</th>\n",
       "      <th>Model I</th>\n",
       "    </tr>\n",
       "  </thead>\n",
       "  <tbody>\n",
       "    <tr>\n",
       "      <th>Accuracy/Score</th>\n",
       "      <td>0.76</td>\n",
       "      <td>0.74</td>\n",
       "      <td>0.75</td>\n",
       "    </tr>\n",
       "    <tr>\n",
       "      <th>True Positives</th>\n",
       "      <td>221.00</td>\n",
       "      <td>171.00</td>\n",
       "      <td>178.00</td>\n",
       "    </tr>\n",
       "    <tr>\n",
       "      <th>False Postives</th>\n",
       "      <td>187.00</td>\n",
       "      <td>157.00</td>\n",
       "      <td>152.00</td>\n",
       "    </tr>\n",
       "    <tr>\n",
       "      <th>True Negatives</th>\n",
       "      <td>846.00</td>\n",
       "      <td>876.00</td>\n",
       "      <td>881.00</td>\n",
       "    </tr>\n",
       "    <tr>\n",
       "      <th>False Negatives</th>\n",
       "      <td>153.00</td>\n",
       "      <td>203.00</td>\n",
       "      <td>196.00</td>\n",
       "    </tr>\n",
       "    <tr>\n",
       "      <th>TPR/Recall</th>\n",
       "      <td>0.59</td>\n",
       "      <td>0.46</td>\n",
       "      <td>0.48</td>\n",
       "    </tr>\n",
       "    <tr>\n",
       "      <th>False Positive Rate</th>\n",
       "      <td>0.18</td>\n",
       "      <td>0.15</td>\n",
       "      <td>0.15</td>\n",
       "    </tr>\n",
       "    <tr>\n",
       "      <th>True Negative Rate</th>\n",
       "      <td>0.82</td>\n",
       "      <td>0.85</td>\n",
       "      <td>0.85</td>\n",
       "    </tr>\n",
       "    <tr>\n",
       "      <th>False Negative Rate</th>\n",
       "      <td>0.41</td>\n",
       "      <td>0.54</td>\n",
       "      <td>0.52</td>\n",
       "    </tr>\n",
       "    <tr>\n",
       "      <th>Precision</th>\n",
       "      <td>0.54</td>\n",
       "      <td>0.52</td>\n",
       "      <td>0.54</td>\n",
       "    </tr>\n",
       "    <tr>\n",
       "      <th>F1-Score</th>\n",
       "      <td>0.57</td>\n",
       "      <td>0.49</td>\n",
       "      <td>0.51</td>\n",
       "    </tr>\n",
       "    <tr>\n",
       "      <th>Support Positive</th>\n",
       "      <td>374.00</td>\n",
       "      <td>374.00</td>\n",
       "      <td>374.00</td>\n",
       "    </tr>\n",
       "    <tr>\n",
       "      <th>Support Negative</th>\n",
       "      <td>1033.00</td>\n",
       "      <td>1033.00</td>\n",
       "      <td>1033.00</td>\n",
       "    </tr>\n",
       "  </tbody>\n",
       "</table>\n",
       "</div>"
      ],
      "text/plain": [
       "                     Model D  Model G  Model I\n",
       "Accuracy/Score          0.76     0.74     0.75\n",
       "True Positives        221.00   171.00   178.00\n",
       "False Postives        187.00   157.00   152.00\n",
       "True Negatives        846.00   876.00   881.00\n",
       "False Negatives       153.00   203.00   196.00\n",
       "TPR/Recall              0.59     0.46     0.48\n",
       "False Positive Rate     0.18     0.15     0.15\n",
       "True Negative Rate      0.82     0.85     0.85\n",
       "False Negative Rate     0.41     0.54     0.52\n",
       "Precision               0.54     0.52     0.54\n",
       "F1-Score                0.57     0.49     0.51\n",
       "Support Positive      374.00   374.00   374.00\n",
       "Support Negative     1033.00  1033.00  1033.00"
      ]
     },
     "execution_count": 78,
     "metadata": {},
     "output_type": "execute_result"
    }
   ],
   "source": [
    "validate_comparison"
   ]
  },
  {
   "attachments": {},
   "cell_type": "markdown",
   "metadata": {},
   "source": [
    "### Takeaways\n",
    "> Initial: All three chosen sets perform below baseline. Need to re-adjust and re-attempt"
   ]
  },
  {
   "cell_type": "code",
   "execution_count": 79,
   "metadata": {},
   "outputs": [
    {
     "data": {
      "text/plain": [
       "0        0.75\n",
       "1      186.00\n",
       "2      162.00\n",
       "3      871.00\n",
       "4      188.00\n",
       "5        0.50\n",
       "6        0.16\n",
       "7        0.84\n",
       "8        0.50\n",
       "9        0.53\n",
       "10       0.52\n",
       "11     374.00\n",
       "12    1033.00\n",
       "dtype: float64"
      ]
     },
     "execution_count": 79,
     "metadata": {},
     "output_type": "execute_result"
    }
   ],
   "source": [
    "model.compute_metrics(model_i, X_test[model_i_features], y_test)"
   ]
  },
  {
   "cell_type": "code",
   "execution_count": 80,
   "metadata": {},
   "outputs": [],
   "source": [
    "# Make Predictions\n",
    "y_pred = model_i.predict(X_test[model_i_features])\n",
    "\n",
    "# Estimate Probability \n",
    "y_pred_proba = model_i.predict_proba(X_test[model_i_features])"
   ]
  },
  {
   "cell_type": "code",
   "execution_count": 81,
   "metadata": {},
   "outputs": [],
   "source": [
    "# final_predictions = pd.DataFrame({'Predictions':y_pred, 'Probability': y_pred_proba})"
   ]
  },
  {
   "cell_type": "code",
   "execution_count": 82,
   "metadata": {},
   "outputs": [
    {
     "data": {
      "text/plain": [
       "array([0.33333333, 0.33333333, 0.        , ..., 0.        , 0.        ,\n",
       "       0.66666667])"
      ]
     },
     "execution_count": 82,
     "metadata": {},
     "output_type": "execute_result"
    }
   ],
   "source": [
    "y_pred_proba[:,1]"
   ]
  },
  {
   "cell_type": "code",
   "execution_count": 83,
   "metadata": {},
   "outputs": [],
   "source": [
    "probabilities = pd.Series(y_pred_proba[:,1], index=X_test.index)"
   ]
  },
  {
   "cell_type": "code",
   "execution_count": 84,
   "metadata": {},
   "outputs": [],
   "source": [
    "predictions = pd.Series(y_pred, index=X_test.index)"
   ]
  },
  {
   "cell_type": "code",
   "execution_count": 85,
   "metadata": {},
   "outputs": [],
   "source": [
    "final_predictions = pd.DataFrame(pd.concat([probabilities, predictions], axis=1))"
   ]
  },
  {
   "cell_type": "code",
   "execution_count": 86,
   "metadata": {},
   "outputs": [],
   "source": [
    "# final_predictions.merge(df[['customer_id']], left_on=final_predictions.index, right_on=df[['customer_id']].index)"
   ]
  },
  {
   "cell_type": "code",
   "execution_count": 87,
   "metadata": {},
   "outputs": [
    {
     "data": {
      "text/plain": [
       "Int64Index([2906,   55,  384, 5840, 2562, 2603, 6034, 5622, 5982, 3360,\n",
       "            ...\n",
       "            1397, 2652, 7027, 6292, 5272, 2794, 5847, 2937, 1520, 1810],\n",
       "           dtype='int64', length=1407)"
      ]
     },
     "execution_count": 87,
     "metadata": {},
     "output_type": "execute_result"
    }
   ],
   "source": [
    "predictions.index"
   ]
  },
  {
   "cell_type": "code",
   "execution_count": 88,
   "metadata": {},
   "outputs": [],
   "source": [
    "#customer_id = df[['customer_id']].iloc[predictions.index]"
   ]
  },
  {
   "cell_type": "code",
   "execution_count": 94,
   "metadata": {},
   "outputs": [],
   "source": [
    "customer_id = customer_id.iloc[predictions.index]"
   ]
  },
  {
   "cell_type": "code",
   "execution_count": 95,
   "metadata": {},
   "outputs": [],
   "source": [
    "final_final_predictions = pd.concat([customer_id, final_predictions], axis=1)"
   ]
  },
  {
   "cell_type": "code",
   "execution_count": 96,
   "metadata": {},
   "outputs": [
    {
     "data": {
      "text/html": [
       "<div>\n",
       "<style scoped>\n",
       "    .dataframe tbody tr th:only-of-type {\n",
       "        vertical-align: middle;\n",
       "    }\n",
       "\n",
       "    .dataframe tbody tr th {\n",
       "        vertical-align: top;\n",
       "    }\n",
       "\n",
       "    .dataframe thead th {\n",
       "        text-align: right;\n",
       "    }\n",
       "</style>\n",
       "<table border=\"1\" class=\"dataframe\">\n",
       "  <thead>\n",
       "    <tr style=\"text-align: right;\">\n",
       "      <th></th>\n",
       "      <th>customer_id</th>\n",
       "      <th>0</th>\n",
       "      <th>1</th>\n",
       "    </tr>\n",
       "  </thead>\n",
       "  <tbody>\n",
       "    <tr>\n",
       "      <th>2906</th>\n",
       "      <td>4138-NAXED</td>\n",
       "      <td>0.333333</td>\n",
       "      <td>0</td>\n",
       "    </tr>\n",
       "    <tr>\n",
       "      <th>55</th>\n",
       "      <td>0096-BXERS</td>\n",
       "      <td>0.333333</td>\n",
       "      <td>0</td>\n",
       "    </tr>\n",
       "    <tr>\n",
       "      <th>384</th>\n",
       "      <td>0567-XRHCU</td>\n",
       "      <td>0.000000</td>\n",
       "      <td>0</td>\n",
       "    </tr>\n",
       "    <tr>\n",
       "      <th>5840</th>\n",
       "      <td>8215-NGSPE</td>\n",
       "      <td>0.000000</td>\n",
       "      <td>0</td>\n",
       "    </tr>\n",
       "    <tr>\n",
       "      <th>2562</th>\n",
       "      <td>3663-MITLP</td>\n",
       "      <td>0.666667</td>\n",
       "      <td>1</td>\n",
       "    </tr>\n",
       "  </tbody>\n",
       "</table>\n",
       "</div>"
      ],
      "text/plain": [
       "     customer_id         0  1\n",
       "2906  4138-NAXED  0.333333  0\n",
       "55    0096-BXERS  0.333333  0\n",
       "384   0567-XRHCU  0.000000  0\n",
       "5840  8215-NGSPE  0.000000  0\n",
       "2562  3663-MITLP  0.666667  1"
      ]
     },
     "execution_count": 96,
     "metadata": {},
     "output_type": "execute_result"
    }
   ],
   "source": [
    "final_final_predictions.head()"
   ]
  },
  {
   "cell_type": "code",
   "execution_count": 97,
   "metadata": {},
   "outputs": [],
   "source": [
    "final_final_predictions.columns = ['Customer Id', 'Probabilities', 'Predictions' ]"
   ]
  },
  {
   "cell_type": "code",
   "execution_count": 98,
   "metadata": {},
   "outputs": [],
   "source": [
    "final_final_predictions.to_csv('final_predictions.csv')"
   ]
  },
  {
   "cell_type": "markdown",
   "metadata": {},
   "source": [
    "# Conclusions "
   ]
  }
 ],
 "metadata": {
  "kernelspec": {
   "display_name": "Python 3.9.12 ('base')",
   "language": "python",
   "name": "python3"
  },
  "language_info": {
   "codemirror_mode": {
    "name": "ipython",
    "version": 3
   },
   "file_extension": ".py",
   "mimetype": "text/x-python",
   "name": "python",
   "nbconvert_exporter": "python",
   "pygments_lexer": "ipython3",
   "version": "3.9.12"
  },
  "orig_nbformat": 4,
  "vscode": {
   "interpreter": {
    "hash": "38cca0c38332a56087b24af0bc80247f4fced29cb4f7f437d91dc159adec9c4e"
   }
  }
 },
 "nbformat": 4,
 "nbformat_minor": 2
}
